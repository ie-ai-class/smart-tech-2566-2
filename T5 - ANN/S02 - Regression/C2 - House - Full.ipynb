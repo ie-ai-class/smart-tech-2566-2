{
 "cells": [
  {
   "cell_type": "code",
   "execution_count": null,
   "metadata": {},
   "outputs": [],
   "source": [
    "import tensorflow as tf\n",
    "from sklearn.model_selection import train_test_split\n",
    "from sklearn.preprocessing import StandardScaler\n",
    "from sklearn.preprocessing import MinMaxScaler\n",
    "import matplotlib.pyplot as plt\n",
    "import pandas as pd\n",
    "\n",
    "# df = pd.read_excel(\"housing_data.xlsx\")\n",
    "url = \"https://raw.githubusercontent.com/ie-ai-class/ai-2566-2/main/T6%20-%20ANN/S02%20-%20Regression/housing_data.csv\"\n",
    "df = pd.read_csv(url)\n",
    "df.head()"
   ]
  },
  {
   "cell_type": "code",
   "execution_count": null,
   "metadata": {},
   "outputs": [],
   "source": [
    "from sklearn.metrics import r2_score\n",
    "from sklearn.metrics import mean_squared_error\n",
    "\n",
    "\n",
    "def res_plot(ax, y_pred, y, title, color=\"steelblue\"):\n",
    "    ax.scatter(y_pred, y_pred - y, c=color, marker=\"o\", edgecolor=\"white\", s=70)\n",
    "    ax.hlines(y=0, xmin=0, xmax=1, color=\"black\", lw=2)\n",
    "    ax.axes.set_aspect(\"equal\")\n",
    "    ax.set_title(title)\n",
    "\n",
    "\n",
    "def store_results(results, y_train, y_test, y_train_pred, y_test_pred):\n",
    "    MSE_train = mean_squared_error(y_train, y_train_pred)\n",
    "    MSE_test = mean_squared_error(y_test, y_test_pred)\n",
    "\n",
    "    R2_train = r2_score(y_train, y_train_pred)\n",
    "    R2_test = r2_score(y_test, y_test_pred)\n",
    "\n",
    "    data = {\n",
    "        \"MSE Train\": MSE_train,\n",
    "        \"MSE Test\": MSE_test,\n",
    "        \"R2 Train\": R2_train,\n",
    "        \"R2 Test\": R2_test,\n",
    "    }\n",
    "    results.append(data)\n",
    "    return"
   ]
  },
  {
   "cell_type": "code",
   "execution_count": null,
   "metadata": {},
   "outputs": [],
   "source": [
    "# Shuffle data\n",
    "df = df.sample(frac=1, random_state=1)\n",
    "\n",
    "# Extract data\n",
    "\n",
    "colsX = [i for i in df.columns if i != \"MEDV\"]\n",
    "X = df[colsX].values\n",
    "y = df[\"MEDV\"].values\n",
    "print(X.shape)\n",
    "\n",
    "# Split data\n",
    "X_train, X_test, y_train, y_test = train_test_split(X, y, test_size=0.3, random_state=0)"
   ]
  },
  {
   "cell_type": "markdown",
   "metadata": {},
   "source": [
    "Very important to scale both X and y data.\n"
   ]
  },
  {
   "cell_type": "code",
   "execution_count": null,
   "metadata": {},
   "outputs": [],
   "source": [
    "# Standardization\n",
    "sc = StandardScaler()\n",
    "sc.fit(X_train)\n",
    "X_train_std = sc.transform(X_train)\n",
    "X_test_std = sc.transform(X_test)\n",
    "\n",
    "# Scale y data\n",
    "nm = MinMaxScaler()\n",
    "y_train = y_train.reshape(-1, 1)  # Required for sklearn api\n",
    "y_test = y_test.reshape(-1, 1)\n",
    "nm.fit(y_train)\n",
    "y_train_scaled = nm.transform(y_train)\n",
    "y_test_scaled = nm.transform(y_test)"
   ]
  },
  {
   "cell_type": "code",
   "execution_count": null,
   "metadata": {},
   "outputs": [],
   "source": [
    "tf.keras.backend.clear_session()\n",
    "\n",
    "# https://stackoverflow.com/a/54594876\n",
    "tf.keras.backend.set_epsilon(1)\n",
    "\n",
    "model = tf.keras.Sequential(\n",
    "    [\n",
    "        tf.keras.layers.InputLayer(input_shape=(13,)),\n",
    "        tf.keras.layers.Dense(units=16, activation=\"relu\", name=\"hidden1\"),\n",
    "        tf.keras.layers.Dense(units=1, name=\"output\"),\n",
    "    ]\n",
    ")\n",
    "\n",
    "model.summary()\n",
    "\n",
    "model.compile(\n",
    "    optimizer=\"adam\",\n",
    "    loss=\"mean_squared_error\",\n",
    "    metrics=[\"mean_absolute_percentage_error\"],\n",
    ")"
   ]
  },
  {
   "cell_type": "code",
   "execution_count": null,
   "metadata": {},
   "outputs": [],
   "source": [
    "tf_fit = model.fit(\n",
    "    x=X_train_std,\n",
    "    y=y_train_scaled,\n",
    "    batch_size=16,\n",
    "    validation_split=0.2,\n",
    "    epochs=200,\n",
    "    verbose=1,\n",
    ")"
   ]
  },
  {
   "cell_type": "code",
   "execution_count": null,
   "metadata": {},
   "outputs": [],
   "source": [
    "# Inspect the training history\n",
    "df = pd.DataFrame(tf_fit.history)\n",
    "df.head()"
   ]
  },
  {
   "cell_type": "code",
   "execution_count": null,
   "metadata": {},
   "outputs": [],
   "source": [
    "fig, axes = plt.subplots(nrows=1, ncols=2, figsize=(12, 5))\n",
    "\n",
    "df[[\"loss\", \"val_loss\"]].plot(\n",
    "    ax=axes[0], title=\"Loss\", grid=True, legend=True, xlabel=\"Epoch\", ylabel=\"Loss\"\n",
    ")\n",
    "\n",
    "df[[\"mean_absolute_percentage_error\", \"val_mean_absolute_percentage_error\"]].plot(\n",
    "    ax=axes[1], title=\"Loss\", grid=True, legend=True, xlabel=\"Epoch\", ylabel=\"Loss\"\n",
    ")"
   ]
  },
  {
   "cell_type": "code",
   "execution_count": null,
   "metadata": {},
   "outputs": [],
   "source": [
    "y_train_pred = model.predict(X_train_std)\n",
    "y_test_pred = model.predict(X_test_std)"
   ]
  },
  {
   "cell_type": "code",
   "execution_count": null,
   "metadata": {},
   "outputs": [],
   "source": [
    "fig, ax = plt.subplots(\n",
    "    1, 2, figsize=(9, 5), constrained_layout=True, sharex=True, sharey=True\n",
    ")\n",
    "res_plot(ax=ax[0], y_pred=y_train_pred, y=y_train_scaled, title=\"Train\")\n",
    "res_plot(ax=ax[1], y_pred=y_test_pred, y=y_test_scaled, title=\"Test\", color=\"limegreen\")\n",
    "ax[0].set_xlabel(\"Predicted values\")\n",
    "ax[0].set_ylabel(\"Residual\")\n",
    "ax[1].set_xlabel(\"Predicted values\")\n",
    "ax[1].set_ylabel(\"Residual\")\n",
    "\n",
    "results = []\n",
    "\n",
    "df = store_results(\n",
    "    results=results,\n",
    "    y_train=y_train_scaled,\n",
    "    y_train_pred=y_train_pred,\n",
    "    y_test=y_test_scaled,\n",
    "    y_test_pred=y_test_pred,\n",
    ")\n",
    "\n",
    "results_df = pd.DataFrame(results)\n",
    "\n",
    "display(results_df)"
   ]
  }
 ],
 "metadata": {
  "kernelspec": {
   "display_name": "Python 3.9.12 ('tf')",
   "language": "python",
   "name": "python3"
  },
  "language_info": {
   "codemirror_mode": {
    "name": "ipython",
    "version": 3
   },
   "file_extension": ".py",
   "mimetype": "text/x-python",
   "name": "python",
   "nbconvert_exporter": "python",
   "pygments_lexer": "ipython3",
   "version": "3.11.8"
  },
  "orig_nbformat": 4,
  "vscode": {
   "interpreter": {
    "hash": "3f531f38061d288ff7109e336294c007d5438e97f3aa4943df1d0053d1256d75"
   }
  }
 },
 "nbformat": 4,
 "nbformat_minor": 2
}
