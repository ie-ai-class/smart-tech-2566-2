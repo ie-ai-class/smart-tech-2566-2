{
 "cells": [
  {
   "cell_type": "markdown",
   "metadata": {},
   "source": [
    "# SciKera Regression"
   ]
  },
  {
   "cell_type": "code",
   "execution_count": null,
   "metadata": {},
   "outputs": [],
   "source": [
    "import tensorflow as tf\n",
    "from sklearn.model_selection import train_test_split\n",
    "from sklearn.preprocessing import StandardScaler\n",
    "from sklearn.preprocessing import MinMaxScaler\n",
    "import matplotlib.pyplot as plt\n",
    "import pandas as pd\n",
    "\n",
    "from scikeras.wrappers import KerasRegressor"
   ]
  },
  {
   "cell_type": "code",
   "execution_count": null,
   "metadata": {},
   "outputs": [],
   "source": [
    "# df = pd.read_excel(\"housing_data.xlsx\")\n",
    "url = \"https://raw.githubusercontent.com/ie-ai-class/ai-2566-2/main/T6%20-%20ANN/S02%20-%20Regression/housing_data.csv\"\n",
    "df = pd.read_csv(url)\n",
    "df.head()"
   ]
  },
  {
   "cell_type": "code",
   "execution_count": null,
   "metadata": {},
   "outputs": [],
   "source": [
    "from sklearn.metrics import r2_score\n",
    "from sklearn.metrics import mean_squared_error\n",
    "\n",
    "def res_plot(ax, y_pred, y, title, color=\"steelblue\"):\n",
    "    ax.scatter(y_pred, y_pred - y, c=color, marker=\"o\", edgecolor=\"white\", s=70)\n",
    "    ax.hlines(y=0, xmin=0, xmax=1, color=\"black\", lw=2)\n",
    "    ax.axes.set_aspect(\"equal\")\n",
    "    ax.set_title(title)\n",
    "\n",
    "\n",
    "def store_results(results, y_train, y_test, y_train_pred, y_test_pred):\n",
    "    MSE_train = mean_squared_error(y_train, y_train_pred)\n",
    "    MSE_test = mean_squared_error(y_test, y_test_pred)\n",
    "\n",
    "    R2_train = r2_score(y_train, y_train_pred)\n",
    "    R2_test = r2_score(y_test, y_test_pred)\n",
    "\n",
    "    data = {\n",
    "        \"MSE Train\": MSE_train,\n",
    "        \"MSE Test\": MSE_test,\n",
    "        \"R2 Train\": R2_train,\n",
    "        \"R2 Test\": R2_test,\n",
    "    }\n",
    "    results.append(data)\n",
    "    return"
   ]
  },
  {
   "cell_type": "code",
   "execution_count": null,
   "metadata": {},
   "outputs": [],
   "source": [
    "# Shuffle data\n",
    "df = df.sample(frac=1, random_state=1)\n",
    "\n",
    "# Extract data\n",
    "\n",
    "colsX = [i for i in df.columns if i != \"MEDV\"]\n",
    "X = df[colsX].values\n",
    "y = df[\"MEDV\"].values\n",
    "print(X.shape)\n",
    "\n",
    "# Split data\n",
    "X_train, X_test, y_train, y_test = train_test_split(X, y, test_size=0.3, random_state=0)\n",
    "\n",
    "# Standardization\n",
    "sc = StandardScaler()\n",
    "sc.fit(X_train)\n",
    "X_train_std = sc.transform(X_train)\n",
    "X_test_std = sc.transform(X_test)\n",
    "\n",
    "# Scale y data\n",
    "nm = MinMaxScaler()\n",
    "y_train = y_train.reshape(-1, 1)  # Required for sklearn api\n",
    "y_test = y_test.reshape(-1, 1)\n",
    "nm.fit(y_train)\n",
    "y_train_scaled = nm.transform(y_train)\n",
    "y_test_scaled = nm.transform(y_test)"
   ]
  },
  {
   "cell_type": "code",
   "execution_count": null,
   "metadata": {},
   "outputs": [],
   "source": [
    "def get_clf_model(hidden_layer_sizes, meta, compile_kwargs):\n",
    "\n",
    "    model = tf.keras.Sequential()\n",
    "    input_layer = tf.keras.layers.Input(shape=(meta[\"n_features_in_\"]))\n",
    "    model.add(input_layer)\n",
    "\n",
    "    for i, hidden_layer_size in enumerate(hidden_layer_sizes):\n",
    "        hidden_layer = tf.keras.layers.Dense(\n",
    "            units=hidden_layer_size, activation=\"relu\", name=f\"hidden{i+1}\"\n",
    "        )\n",
    "        model.add(hidden_layer)\n",
    "\n",
    "    output_layer = tf.keras.layers.Dense(units=1, name=\"output\")\n",
    "    model.add(output_layer)\n",
    "\n",
    "    model.compile(\n",
    "        optimizer=compile_kwargs[\"optimizer\"],\n",
    "        loss=\"mean_squared_error\",\n",
    "        metrics=[tf.keras.metrics.mean_absolute_percentage_error],\n",
    "    )\n",
    "\n",
    "    return model"
   ]
  },
  {
   "cell_type": "code",
   "execution_count": null,
   "metadata": {},
   "outputs": [],
   "source": [
    "tf.keras.backend.clear_session()\n",
    "tf.keras.backend.set_epsilon(1)"
   ]
  },
  {
   "cell_type": "code",
   "execution_count": null,
   "metadata": {},
   "outputs": [],
   "source": [
    "clf = KerasRegressor(\n",
    "    model=get_clf_model,\n",
    "    hidden_layer_sizes=(16,),\n",
    "    optimizer=\"adam\",\n",
    "    optimizer__learning_rate=0.001,\n",
    "    epochs=200,\n",
    "    batch_size=16,\n",
    "    validation_split=0.2,  \n",
    "    verbose=1,\n",
    ")"
   ]
  },
  {
   "cell_type": "code",
   "execution_count": null,
   "metadata": {},
   "outputs": [],
   "source": [
    "clf.fit(X_train_std, y_train_scaled)"
   ]
  },
  {
   "cell_type": "code",
   "execution_count": null,
   "metadata": {},
   "outputs": [],
   "source": [
    "y_train_pred = clf.predict(X_train_std)\n",
    "y_test_pred = clf.predict(X_test_std)"
   ]
  },
  {
   "cell_type": "code",
   "execution_count": null,
   "metadata": {},
   "outputs": [],
   "source": [
    "fig, ax = plt.subplots(\n",
    "    1, 2, figsize=(9, 5), constrained_layout=True, sharex=True, sharey=True\n",
    ")\n",
    "res_plot(ax=ax[0], y_pred=y_train_pred, y=y_train_scaled, title=\"Train\")\n",
    "res_plot(ax=ax[1], y_pred=y_test_pred, y=y_test_scaled, title=\"Test\", color=\"limegreen\")\n",
    "ax[0].set_xlabel(\"Predicted values\")\n",
    "ax[0].set_ylabel(\"Residual\")\n",
    "ax[1].set_xlabel(\"Predicted values\")\n",
    "ax[1].set_ylabel(\"Residual\")\n",
    "\n",
    "results = []\n",
    "df = store_results(\n",
    "    results=results,\n",
    "    y_train=y_train_scaled,\n",
    "    y_train_pred=y_train_pred,\n",
    "    y_test=y_test_scaled,\n",
    "    y_test_pred=y_test_pred,\n",
    ")\n",
    "\n",
    "results_df = pd.DataFrame(results)\n",
    "display(results_df)"
   ]
  },
  {
   "cell_type": "code",
   "execution_count": null,
   "metadata": {},
   "outputs": [],
   "source": []
  }
 ],
 "metadata": {
  "kernelspec": {
   "display_name": "Python 3",
   "language": "python",
   "name": "python3"
  },
  "language_info": {
   "codemirror_mode": {
    "name": "ipython",
    "version": 3
   },
   "file_extension": ".py",
   "mimetype": "text/x-python",
   "name": "python",
   "nbconvert_exporter": "python",
   "pygments_lexer": "ipython3",
   "version": "3.11.8"
  }
 },
 "nbformat": 4,
 "nbformat_minor": 2
}
