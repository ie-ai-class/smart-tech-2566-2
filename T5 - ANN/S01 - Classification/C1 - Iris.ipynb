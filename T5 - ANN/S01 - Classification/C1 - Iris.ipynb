{
 "cells": [
  {
   "cell_type": "markdown",
   "metadata": {},
   "source": [
    "# Iris dataset\n",
    "\n",
    "2 attributes\n",
    "\n",
    "### Packages\n",
    "- `pip install tensorflow==2.12`\n",
    "- The current tensorflow version is 2.15 (as of Feb 2024).  However, We will use another package `scikeras` which requires older TF version."
   ]
  },
  {
   "cell_type": "code",
   "execution_count": null,
   "metadata": {},
   "outputs": [],
   "source": [
    "import tensorflow as tf\n",
    "from sklearn import datasets\n",
    "from sklearn.model_selection import train_test_split\n",
    "from sklearn.preprocessing import StandardScaler\n",
    "import matplotlib.pyplot as plt\n",
    "import numpy as np\n",
    "import pandas as pd"
   ]
  },
  {
   "cell_type": "code",
   "execution_count": null,
   "metadata": {},
   "outputs": [],
   "source": [
    "# Check TensorFlow version\n",
    "print(\"TensorFlow version:\", tf.__version__)"
   ]
  },
  {
   "cell_type": "code",
   "execution_count": null,
   "metadata": {},
   "outputs": [],
   "source": [
    "# Read data\n",
    "iris = datasets.load_iris()\n",
    "\n",
    "# Create a DataFrame\n",
    "df = pd.DataFrame(data=iris.data, columns=iris.feature_names)\n",
    "df[\"target\"] = iris.target"
   ]
  },
  {
   "cell_type": "code",
   "execution_count": null,
   "metadata": {},
   "outputs": [],
   "source": [
    "# Shuffle the DataFrame (frac=1 means all rows)\n",
    "# This is because the validatio split is done by taking the last % of the data. \n",
    "# If the data is not shuffled, the validation set will contain only the last class\n",
    "print(df[\"target\"].values)\n",
    "df = df.sample(frac=1, random_state=0)\n",
    "print(df.target.values)"
   ]
  },
  {
   "cell_type": "code",
   "execution_count": null,
   "metadata": {},
   "outputs": [],
   "source": [
    "# 2 Attributes\n",
    "X = df.iloc[:, 2:4].values\n",
    "y = df[\"target\"].values\n",
    "\n",
    "\n",
    "# Split data into training and testing data\n",
    "X_train, X_test, y_train, y_test = train_test_split(\n",
    "    X, y, test_size=0.3, random_state=1, stratify=y\n",
    ")\n",
    "\n",
    "# Standardization\n",
    "sc = StandardScaler()\n",
    "sc.fit(X_train)\n",
    "X_train_std = sc.transform(X_train)\n",
    "X_test_std = sc.transform(X_test)"
   ]
  },
  {
   "cell_type": "markdown",
   "metadata": {},
   "source": [
    "## Model building\n"
   ]
  },
  {
   "cell_type": "code",
   "execution_count": null,
   "metadata": {},
   "outputs": [],
   "source": [
    "tf.keras.backend.clear_session()\n",
    "\n",
    "model = tf.keras.Sequential(\n",
    "    [\n",
    "        tf.keras.layers.InputLayer(input_shape=(2,)),\n",
    "        tf.keras.layers.Dense(units=16, activation=\"sigmoid\", name=\"hidden1\"),\n",
    "        tf.keras.layers.Dense(units=3, activation=\"softmax\", name=\"output\"),\n",
    "    ]\n",
    ")\n",
    "\n",
    "model.summary()\n",
    "\n",
    "adam = tf.keras.optimizers.Adam(learning_rate=0.001)\n",
    "\n",
    "model.compile(\n",
    "    optimizer=adam, loss=\"sparse_categorical_crossentropy\", metrics=[\"accuracy\"]\n",
    ")"
   ]
  },
  {
   "cell_type": "markdown",
   "metadata": {},
   "source": [
    "# Model training\n"
   ]
  },
  {
   "cell_type": "code",
   "execution_count": null,
   "metadata": {},
   "outputs": [],
   "source": [
    "tf_fit = model.fit(\n",
    "    x=X_train_std, y=y_train, batch_size=16, validation_split=0.2, epochs=200, verbose=1\n",
    ")"
   ]
  },
  {
   "cell_type": "code",
   "execution_count": null,
   "metadata": {},
   "outputs": [],
   "source": [
    "# Inspect the training history\n",
    "df = pd.DataFrame(tf_fit.history)\n",
    "df.head()"
   ]
  },
  {
   "cell_type": "code",
   "execution_count": null,
   "metadata": {},
   "outputs": [],
   "source": [
    "fig, axes = plt.subplots(nrows=1, ncols=2, figsize=(12, 5))\n",
    "\n",
    "df[[\"loss\", \"val_loss\"]].plot(\n",
    "    ax=axes[0], title=\"Loss\", grid=True, legend=True, xlabel=\"Epoch\", ylabel=\"Loss\"\n",
    ")\n",
    "\n",
    "df[[\"accuracy\", \"val_accuracy\"]].plot(\n",
    "    ax=axes[1], title=\"Loss\", grid=True, legend=True, xlabel=\"Epoch\", ylabel=\"Loss\"\n",
    ")"
   ]
  },
  {
   "cell_type": "markdown",
   "metadata": {},
   "source": [
    "## Model evaluation\n"
   ]
  },
  {
   "cell_type": "code",
   "execution_count": null,
   "metadata": {},
   "outputs": [],
   "source": [
    "results = model.evaluate(X_test_std, y_test, verbose=0)\n",
    "print(f\"Test loss: {results[0]:.4f}   Test Acc.: {results[1]:.4f}\")"
   ]
  },
  {
   "cell_type": "markdown",
   "metadata": {},
   "source": [
    "## Prediction\n"
   ]
  },
  {
   "cell_type": "code",
   "execution_count": null,
   "metadata": {},
   "outputs": [],
   "source": [
    "y_hat = model(X_test_std[:3])\n",
    "print(y_hat.numpy())"
   ]
  },
  {
   "cell_type": "code",
   "execution_count": null,
   "metadata": {},
   "outputs": [],
   "source": [
    "yp = y_hat.numpy()[0]\n",
    "xp = list(range(yp.shape[0]))\n",
    "plt.bar(xp, yp)\n",
    "plt.title(\"Softmax Values\")\n",
    "plt.show()"
   ]
  },
  {
   "cell_type": "code",
   "execution_count": null,
   "metadata": {},
   "outputs": [],
   "source": [
    "np.argmax(y_hat, axis=1)"
   ]
  },
  {
   "cell_type": "markdown",
   "metadata": {},
   "source": [
    "## Decision surface\n"
   ]
  },
  {
   "cell_type": "code",
   "execution_count": null,
   "metadata": {},
   "outputs": [],
   "source": [
    "XP = sc.transform(X)\n",
    "x_min = XP[:, 0].min() - 0.1\n",
    "x_max = XP[:, 0].max() + 0.1\n",
    "y_min = XP[:, 1].min() - 0.1\n",
    "y_max = XP[:, 1].max() + 0.1\n",
    "\n",
    "xx, yy = np.meshgrid(np.linspace(x_min, x_max, 100), np.linspace(y_min, y_max, 100))\n",
    "f, ax = plt.subplots(1, 1, figsize=(6, 5))\n",
    "Z = model.predict(np.c_[xx.ravel(), yy.ravel()])\n",
    "Z = np.argmax(Z, axis=1)  # Find the class label\n",
    "Z = Z.reshape(xx.shape)\n",
    "\n",
    "ax.contourf(xx, yy, Z, alpha=0.3)\n",
    "markers = (\"s\", \"^\", \"o\", \"v\", \"x\")\n",
    "for idx, lb in enumerate(np.unique(y_test)):\n",
    "    ax.scatter(\n",
    "        X_test_std[y_test == lb, 0],\n",
    "        X_test_std[y_test == lb, 1],\n",
    "        marker=markers[idx],\n",
    "        s=50,\n",
    "    )\n",
    "\n",
    "ax.set_title(\"ANN\")\n",
    "ax.set_xlabel(\"X1\")\n",
    "ax.set_ylabel(\"X2\")\n",
    "plt.tight_layout(pad=3.0)\n",
    "plt.show()"
   ]
  }
 ],
 "metadata": {
  "kernelspec": {
   "display_name": "Python 3.9.12 ('tf')",
   "language": "python",
   "name": "python3"
  },
  "language_info": {
   "codemirror_mode": {
    "name": "ipython",
    "version": 3
   },
   "file_extension": ".py",
   "mimetype": "text/x-python",
   "name": "python",
   "nbconvert_exporter": "python",
   "pygments_lexer": "ipython3",
   "version": "3.11.8"
  },
  "orig_nbformat": 4,
  "vscode": {
   "interpreter": {
    "hash": "3f531f38061d288ff7109e336294c007d5438e97f3aa4943df1d0053d1256d75"
   }
  }
 },
 "nbformat": 4,
 "nbformat_minor": 2
}
