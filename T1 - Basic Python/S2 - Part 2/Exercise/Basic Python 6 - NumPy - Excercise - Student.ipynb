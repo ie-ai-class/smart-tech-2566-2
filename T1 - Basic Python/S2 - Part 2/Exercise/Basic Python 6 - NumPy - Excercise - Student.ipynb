{
 "cells": [
  {
   "cell_type": "markdown",
   "metadata": {
    "id": "fifkCFyRihN6"
   },
   "source": [
    "# NumPy Excercises"
   ]
  },
  {
   "cell_type": "markdown",
   "metadata": {
    "id": "fmnlEyzelhz1"
   },
   "source": [
    "# Ex 1.\n",
    "จงสร้าง numpy array ขนาด 1 มิติ ที่มีแต่เลขคู่ ที่มีค่าอยู่ในช่วง 0 - 100"
   ]
  },
  {
   "cell_type": "code",
   "execution_count": null,
   "metadata": {
    "colab": {
     "base_uri": "https://localhost:8080/",
     "height": 67
    },
    "id": "QR_RaSDTl733",
    "outputId": "51d1a23b-8b77-4494-e63a-39af315553db"
   },
   "outputs": [],
   "source": []
  },
  {
   "cell_type": "markdown",
   "metadata": {
    "id": "bk6Nobs3mQFT"
   },
   "source": [
    "# Ex 2.\n",
    "จงสร้าง array ขนาด 2 มิติ ขนาด 5 x 5 โดยแต่ละค่าจะเป็นค่า random ที่มีการตั้ง seed(0)"
   ]
  },
  {
   "cell_type": "code",
   "execution_count": null,
   "metadata": {
    "colab": {
     "base_uri": "https://localhost:8080/",
     "height": 185
    },
    "id": "dtmiQRVgmubP",
    "outputId": "918aa6c6-7adc-4df6-cd17-0494e04ece1f"
   },
   "outputs": [],
   "source": []
  },
  {
   "cell_type": "markdown",
   "metadata": {},
   "source": [
    "# Ex 3.\n",
    "จงหาค่าผลรวมของ array ที่สร้างจากข้อ 2"
   ]
  },
  {
   "cell_type": "code",
   "execution_count": null,
   "metadata": {},
   "outputs": [],
   "source": []
  },
  {
   "cell_type": "markdown",
   "metadata": {},
   "source": [
    "# Ex 4.\n",
    "จงหาค่าผลรวมของ array ในแต่ละ Column"
   ]
  },
  {
   "cell_type": "code",
   "execution_count": null,
   "metadata": {},
   "outputs": [],
   "source": []
  }
 ],
 "metadata": {
  "colab": {
   "collapsed_sections": [],
   "name": "Copy of Basic_Python_Super_AI_Part3.ipynb",
   "provenance": []
  },
  "kernelspec": {
   "display_name": "Python 3.9.7 ('base')",
   "language": "python",
   "name": "python3"
  },
  "language_info": {
   "codemirror_mode": {
    "name": "ipython",
    "version": 3
   },
   "file_extension": ".py",
   "mimetype": "text/x-python",
   "name": "python",
   "nbconvert_exporter": "python",
   "pygments_lexer": "ipython3",
   "version": "3.9.7"
  },
  "vscode": {
   "interpreter": {
    "hash": "610a6f344c2137faf927ea819c63f6cee33a2c04455044b28099f39fe9722347"
   }
  }
 },
 "nbformat": 4,
 "nbformat_minor": 1
}
