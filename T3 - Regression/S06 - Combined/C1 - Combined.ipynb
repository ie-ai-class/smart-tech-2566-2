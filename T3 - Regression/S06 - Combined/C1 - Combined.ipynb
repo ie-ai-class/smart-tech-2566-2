{
 "cells": [
  {
   "cell_type": "markdown",
   "metadata": {},
   "source": [
    "# Combined all regression models\n",
    "\n",
    "Exclude polynomials, XGBoost, CatBoost, LightGBM"
   ]
  },
  {
   "cell_type": "code",
   "execution_count": null,
   "metadata": {},
   "outputs": [],
   "source": [
    "import os, sys, pathlib\n",
    "\n",
    "UTILS_FOLDER = \"S00 - Utils\"\n",
    "curPath = os.getcwd()\n",
    "parPath = pathlib.Path(curPath).parent\n",
    "utilPath = os.path.join(parPath, UTILS_FOLDER)\n",
    "for p in [curPath, str(parPath), utilPath]:\n",
    "    sys.path.append(p)"
   ]
  },
  {
   "cell_type": "code",
   "execution_count": null,
   "metadata": {},
   "outputs": [],
   "source": [
    "import pandas as pd\n",
    "import numpy as np\n",
    "from sklearn.model_selection import train_test_split\n",
    "from utils import plot_reg, plot_res, store_results\n",
    "from sklearn.linear_model import LinearRegression, Ridge, Lasso, ElasticNet\n",
    "from sklearn.svm import SVR\n",
    "from sklearn.tree import DecisionTreeRegressor\n",
    "from sklearn.ensemble import RandomForestRegressor, AdaBoostRegressor, GradientBoostingRegressor\n",
    "from sklearn.neighbors import KNeighborsRegressor\n",
    "\n"
   ]
  },
  {
   "cell_type": "code",
   "execution_count": null,
   "metadata": {},
   "outputs": [],
   "source": [
    "# Load data\n",
    "df = pd.read_excel(\n",
    "    f\"{utilPath}/housing_data.xlsx\",\n",
    ")\n",
    "\n",
    "# Extract data\n",
    "X = df[[\"LSTAT\"]].values\n",
    "y = df[\"MEDV\"].values\n",
    "\n",
    "# Split data\n",
    "X_train, X_test, y_train, y_test = train_test_split(X, y, test_size=0.3, random_state=0)"
   ]
  },
  {
   "cell_type": "code",
   "execution_count": null,
   "metadata": {},
   "outputs": [],
   "source": [
    "modelSets = [\n",
    "    {\"model\": LinearRegression, \"params\": {}},\n",
    "    {\"model\": Ridge, \"params\": {\"alpha\": 1}},\n",
    "    {\"model\": Lasso, \"params\": {\"alpha\": 1}},\n",
    "    {\"model\": ElasticNet, \"params\": {\"alpha\": 1, \"l1_ratio\": 0.5}},\n",
    "    {\"model\": SVR, \"params\": {\"kernel\": \"rbf\", \"C\": 1, \"epsilon\": 0.1}},\n",
    "    {\"model\": DecisionTreeRegressor, \"params\": {\"max_depth\": 3}},\n",
    "    {\"model\": RandomForestRegressor, \"params\": {\"n_estimators\": 100, \"max_depth\": 3}},\n",
    "    {\"model\": AdaBoostRegressor, \"params\": {\"estimator\": None, \"n_estimators\": 50, \"learning_rate\": 0.1}},\n",
    "    {\"model\": GradientBoostingRegressor, \"params\": {\"n_estimators\": 50, \"learning_rate\": 1.0, \"max_depth\": 1}},\n",
    "    {\"model\": KNeighborsRegressor, \"params\": {\"n_neighbors\": 5}},\n",
    "]"
   ]
  },
  {
   "cell_type": "code",
   "execution_count": null,
   "metadata": {},
   "outputs": [],
   "source": [
    "results = []\n",
    "\n",
    "for m in modelSets:\n",
    "\n",
    "    values = m[\"params\"]\n",
    "    Model  = m[\"model\"]\n",
    "    # Create model\n",
    "    model =  Model(**values)\n",
    "\n",
    "    # Train model\n",
    "    model.fit(X_train, y_train)\n",
    "\n",
    "    # Predict\n",
    "    y_train_pred = model.predict(X_train)\n",
    "    y_test_pred = model.predict(X_test)\n",
    "\n",
    "    # Store results\n",
    "    store_results(\n",
    "        results=results,\n",
    "        model_name= Model.__name__,\n",
    "        model=model,\n",
    "        y_train=y_train,\n",
    "        y_test=y_test,\n",
    "        y_train_pred=y_train_pred,\n",
    "        y_test_pred=y_test_pred,\n",
    "        params=values,\n",
    "    )\n",
    "\n",
    "    # Plotting\n",
    "    plot_reg(X_train, X_test, y_train, y_test, y_train_pred, y_test_pred)\n",
    "    # plot_res(y_train, y_test, y_train_pred, y_test_pred)\n",
    "\n",
    "df = pd.DataFrame.from_records(results)\n",
    "df = df.fillna('-')\n",
    "display(df)"
   ]
  }
 ],
 "metadata": {
  "kernelspec": {
   "display_name": "Python 3.9.7 ('base')",
   "language": "python",
   "name": "python3"
  },
  "language_info": {
   "codemirror_mode": {
    "name": "ipython",
    "version": 3
   },
   "file_extension": ".py",
   "mimetype": "text/x-python",
   "name": "python",
   "nbconvert_exporter": "python",
   "pygments_lexer": "ipython3",
   "version": "3.11.7"
  },
  "orig_nbformat": 4,
  "vscode": {
   "interpreter": {
    "hash": "79088bb772545dc9740b3f6fd02f1fa74686ae15b783fc1c2abf8492adb1c7fb"
   }
  }
 },
 "nbformat": 4,
 "nbformat_minor": 2
}
