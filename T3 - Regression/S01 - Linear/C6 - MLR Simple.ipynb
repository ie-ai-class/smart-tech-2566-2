{
 "cells": [
  {
   "cell_type": "markdown",
   "id": "43e9150e",
   "metadata": {},
   "source": [
    "# Multiple linear regression\n"
   ]
  },
  {
   "cell_type": "code",
   "execution_count": null,
   "id": "b3614b55",
   "metadata": {},
   "outputs": [],
   "source": [
    "import os, sys, pathlib\n",
    "\n",
    "UTILS_FOLDER = \"S00 - Utils\"\n",
    "curPath = os.getcwd()\n",
    "parPath = pathlib.Path(curPath).parent\n",
    "utilPath = os.path.join(parPath, UTILS_FOLDER)\n",
    "for p in [curPath, str(parPath), utilPath]:\n",
    "    sys.path.append(p)"
   ]
  },
  {
   "cell_type": "code",
   "execution_count": null,
   "id": "d121eb39-726e-4f46-af75-87f7f236e8b1",
   "metadata": {},
   "outputs": [],
   "source": [
    "import pandas as pd\n",
    "import numpy as np\n",
    "from sklearn.model_selection import train_test_split\n",
    "from sklearn.preprocessing import StandardScaler\n",
    "from utils import plot_reg, plot_res, store_results\n",
    "from sklearn.linear_model import LinearRegression, Ridge, Lasso, ElasticNet"
   ]
  },
  {
   "cell_type": "code",
   "execution_count": null,
   "id": "d805e407-967d-4f00-9b8b-3f8e137af9aa",
   "metadata": {},
   "outputs": [],
   "source": [
    "# Load data\n",
    "df = pd.read_excel(\n",
    "    f\"{utilPath}/housing_data.xlsx\",\n",
    ")\n",
    "\n",
    "# Extract data (multiple columns)\n",
    "cols = df.columns\n",
    "colsX = [col for col in cols if col != \"MEDV\"]\n",
    "X = df[colsX].values\n",
    "y = df[\"MEDV\"]\n",
    "print(X.shape)\n",
    "print(y.shape)\n",
    "\n",
    "# Split data\n",
    "X_train, X_test, y_train, y_test = train_test_split(X, y, test_size=0.3, random_state=0)"
   ]
  },
  {
   "cell_type": "code",
   "execution_count": null,
   "id": "00bcbf26-80f5-4baf-85b9-923e1f0a6b1f",
   "metadata": {},
   "outputs": [],
   "source": [
    "# Standardize data (Not required for simple linear regression, but required for Ridge, Lasso, ElasticNet\n",
    "sc = StandardScaler()\n",
    "X_train_std = sc.fit_transform(X_train)\n",
    "X_test_std = sc.transform(X_test)"
   ]
  },
  {
   "cell_type": "code",
   "execution_count": null,
   "id": "be01cfd3",
   "metadata": {},
   "outputs": [],
   "source": [
    "modelSets = [\n",
    "    {\"model\": LinearRegression, \"params\": {}},\n",
    "    {\"model\": Ridge, \"params\": {\"alpha\": 1}},\n",
    "    {\"model\": Lasso, \"params\": {\"alpha\": 1}},\n",
    "    {\"model\": ElasticNet, \"params\": {\"alpha\": 1, \"l1_ratio\": 0.5}},\n",
    "]"
   ]
  },
  {
   "cell_type": "code",
   "execution_count": null,
   "id": "56220147-0585-4620-bda9-8bf73cedd1e4",
   "metadata": {},
   "outputs": [],
   "source": [
    "results = []\n",
    "\n",
    "for m in modelSets:\n",
    "    # MLR model\n",
    "    mlr = m[\"model\"](**m[\"params\"])\n",
    "\n",
    "    # Fitting model\n",
    "    mlr.fit(X_train_std, y_train)\n",
    "\n",
    "    # Prediction\n",
    "    y_train_pred = mlr.predict(X_train_std)\n",
    "    y_test_pred = mlr.predict(X_test_std)\n",
    "\n",
    "    # Plotting\n",
    "    plot_res(y_train, y_test, y_train_pred, y_test_pred)\n",
    "\n",
    "    store_results(\n",
    "        results=results,\n",
    "        model_name=m[\"model\"].__name__,\n",
    "        model=mlr,\n",
    "        y_train=y_train,\n",
    "        y_test=y_test,\n",
    "        y_train_pred=y_train_pred,\n",
    "        y_test_pred=y_test_pred,\n",
    "        params=m[\"params\"],\n",
    "    )\n",
    "\n",
    "df = pd.DataFrame.from_records(results)\n",
    "display(df)"
   ]
  }
 ],
 "metadata": {
  "kernelspec": {
   "display_name": "Python 3 (ipykernel)",
   "language": "python",
   "name": "python3"
  },
  "language_info": {
   "codemirror_mode": {
    "name": "ipython",
    "version": 3
   },
   "file_extension": ".py",
   "mimetype": "text/x-python",
   "name": "python",
   "nbconvert_exporter": "python",
   "pygments_lexer": "ipython3",
   "version": "3.11.6"
  }
 },
 "nbformat": 4,
 "nbformat_minor": 5
}
