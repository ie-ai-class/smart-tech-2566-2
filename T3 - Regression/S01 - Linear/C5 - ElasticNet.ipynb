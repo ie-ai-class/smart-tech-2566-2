{
 "cells": [
  {
   "cell_type": "markdown",
   "metadata": {},
   "source": [
    "# Elastic Net"
   ]
  },
  {
   "cell_type": "code",
   "execution_count": null,
   "metadata": {},
   "outputs": [],
   "source": [
    "import os, sys, pathlib\n",
    "\n",
    "UTILS_FOLDER = \"S00 - Utils\"\n",
    "curPath = os.getcwd()\n",
    "parPath = pathlib.Path(curPath).parent\n",
    "utilPath = os.path.join(parPath, UTILS_FOLDER)\n",
    "for p in [curPath, str(parPath), utilPath]:\n",
    "    sys.path.append(p)"
   ]
  },
  {
   "cell_type": "code",
   "execution_count": null,
   "metadata": {},
   "outputs": [],
   "source": [
    "import pandas as pd\n",
    "import numpy as np\n",
    "from sklearn.model_selection import train_test_split\n",
    "from utils import plot_reg, plot_res, store_results\n",
    "from sklearn.linear_model import ElasticNet\n",
    "\n"
   ]
  },
  {
   "cell_type": "code",
   "execution_count": null,
   "metadata": {},
   "outputs": [],
   "source": [
    "# Load data\n",
    "df = pd.read_excel(\n",
    "    f\"{utilPath}/housing_data.xlsx\",\n",
    ")\n",
    "\n",
    "# Extract data\n",
    "X = df[[\"LSTAT\"]].values\n",
    "y = df[\"MEDV\"].values\n",
    "\n",
    "# Split data\n",
    "X_train, X_test, y_train, y_test = train_test_split(X, y, test_size=0.3, random_state=0)\n"
   ]
  },
  {
   "cell_type": "code",
   "execution_count": null,
   "metadata": {},
   "outputs": [],
   "source": [
    "#if ratio = 1, we have LASSO, ratio = 0, we have RIDGE.\n",
    "paramSet = {\n",
    "    \"ex1\": {\"alpha\": 1, \"l1_ratio\": 0.5},\n",
    "    \"ex2\": {\"alpha\": 10, \"l1_ratio\": 0.5},\n",
    "    \"ex3\": {\"alpha\": 20, \"l1_ratio\": 0.5},\n",
    "    \"ex4\": {\"alpha\": 30, \"l1_ratio\": 0.5},\n",
    "}\n"
   ]
  },
  {
   "cell_type": "code",
   "execution_count": null,
   "metadata": {},
   "outputs": [],
   "source": [
    "results = []\n",
    "\n",
    "for name, values in paramSet.items():\n",
    "    model  = ElasticNet(**values)\n",
    "  \n",
    "    # Fitting model\n",
    "    model.fit(X_train, y_train)\n",
    "    y_train_pred = model.predict(X_train)\n",
    "    y_test_pred = model.predict(X_test)\n",
    "\n",
    "    store_results(\n",
    "        results=results,\n",
    "        model_name=f\"Elas-{name}\",\n",
    "        model=model,\n",
    "        y_train=y_train,\n",
    "        y_test=y_test,\n",
    "        y_train_pred=y_train_pred,\n",
    "        y_test_pred=y_test_pred,\n",
    "        params=values,\n",
    "\n",
    "    )\n",
    "\n",
    "    # Plotting\n",
    "    plot_reg(X_train, X_test, y_train, y_test, y_train_pred, y_test_pred)\n",
    "    # plot_res(y_train, y_test, y_train_pred, y_test_pred)\n",
    "\n",
    "df = pd.DataFrame.from_records(results)\n",
    "display(df)\n"
   ]
  }
 ],
 "metadata": {
  "interpreter": {
   "hash": "be725e0de8fb3f5fda9b0118bdf797fa9814e28e467c1cce77c5b9910d8a1786"
  },
  "kernelspec": {
   "display_name": "Python 3.9.7 ('base')",
   "language": "python",
   "name": "python3"
  },
  "language_info": {
   "codemirror_mode": {
    "name": "ipython",
    "version": 3
   },
   "file_extension": ".py",
   "mimetype": "text/x-python",
   "name": "python",
   "nbconvert_exporter": "python",
   "pygments_lexer": "ipython3",
   "version": "3.11.7"
  },
  "orig_nbformat": 4
 },
 "nbformat": 4,
 "nbformat_minor": 2
}
