{
 "cells": [
  {
   "cell_type": "markdown",
   "metadata": {},
   "source": [
    "# RANSAC\n"
   ]
  },
  {
   "cell_type": "code",
   "execution_count": null,
   "metadata": {},
   "outputs": [],
   "source": [
    "import os, sys, pathlib\n",
    "\n",
    "UTILS_FOLDER = \"S00 - Utils\"\n",
    "curPath = os.getcwd()\n",
    "parPath = pathlib.Path(curPath).parent\n",
    "utilPath = os.path.join(parPath, UTILS_FOLDER)\n",
    "for p in [curPath, str(parPath), utilPath]:\n",
    "    sys.path.append(p)"
   ]
  },
  {
   "cell_type": "code",
   "execution_count": null,
   "metadata": {},
   "outputs": [],
   "source": [
    "import pandas as pd\n",
    "import numpy as np\n",
    "import json\n",
    "from sklearn.model_selection import train_test_split\n",
    "from utils import plot_reg, plot_res, store_results\n",
    "from sklearn.linear_model import LinearRegression\n",
    "from sklearn.linear_model import RANSACRegressor\n"
   ]
  },
  {
   "cell_type": "code",
   "execution_count": null,
   "metadata": {},
   "outputs": [],
   "source": [
    "# Load data\n",
    "df = pd.read_excel(\n",
    "    f\"{utilPath}/housing_data.xlsx\",\n",
    ")\n",
    "\n",
    "# Extract data\n",
    "X = df[[\"LSTAT\"]].values\n",
    "y = df[\"MEDV\"].values\n",
    "\n",
    "# Split data\n",
    "X_train, X_test, y_train, y_test = train_test_split(X, y, test_size=0.3, random_state=0)"
   ]
  },
  {
   "cell_type": "code",
   "execution_count": null,
   "metadata": {},
   "outputs": [],
   "source": [
    "paramSet = {\n",
    "    \"ex1\": {\n",
    "        \"residual_threshold\": 1,\n",
    "    },\n",
    "    \"ex2\": {\n",
    "        \"residual_threshold\": 5,\n",
    "    },\n",
    "    \"ex3\": {\n",
    "        \"residual_threshold\": 10,\n",
    "    },\n",
    "}"
   ]
  },
  {
   "cell_type": "code",
   "execution_count": null,
   "metadata": {},
   "outputs": [],
   "source": [
    "results = []\n",
    "\n",
    "for name, values in paramSet.items():\n",
    "    rc = RANSACRegressor(\n",
    "        **values,\n",
    "        estimator=LinearRegression(),\n",
    "        max_trials=100,\n",
    "        min_samples=50,\n",
    "        loss=\"absolute_error\",\n",
    "        random_state=0,\n",
    "    )\n",
    "\n",
    "    # Fitting model\n",
    "    rc.fit(X_train, y_train)\n",
    "    y_train_pred = rc.predict(X_train)\n",
    "    y_test_pred = rc.predict(X_test)\n",
    "\n",
    "    store_results(\n",
    "        results=results,\n",
    "        model_name=f\"RANSAC-{name}\",\n",
    "        model=rc.estimator_,  # Need to extract the model out from the wrapper.\n",
    "        y_train=y_train,\n",
    "        y_test=y_test,\n",
    "        y_train_pred=y_train_pred,\n",
    "        y_test_pred=y_test_pred,\n",
    "        params=values,\n",
    "    )\n",
    "\n",
    "    # Plotting regression\n",
    "    fig, ax = plot_reg(X_train, X_test, y_train, y_test, y_train_pred, y_test_pred)\n",
    "\n",
    "    # Plotting inliers and outliers\n",
    "    inlier_mask = rc.inlier_mask_\n",
    "    outlier_mask = np.logical_not(inlier_mask)\n",
    "    ax[0].scatter(\n",
    "        X_train[inlier_mask],\n",
    "        y_train[inlier_mask],\n",
    "        c=\"salmon\",\n",
    "        edgecolor=\"white\",\n",
    "        marker=\"o\",\n",
    "        label=\"Inliers\",\n",
    "        s=70,\n",
    "    )\n",
    "\n",
    "    # plot_res(y_train, y_test, y_train_pred, y_test_pred)\n",
    "\n",
    "df = pd.DataFrame.from_records(results)\n",
    "display(df)"
   ]
  }
 ],
 "metadata": {
  "interpreter": {
   "hash": "be725e0de8fb3f5fda9b0118bdf797fa9814e28e467c1cce77c5b9910d8a1786"
  },
  "kernelspec": {
   "display_name": "Python 3.9.7 ('base')",
   "language": "python",
   "name": "python3"
  },
  "language_info": {
   "codemirror_mode": {
    "name": "ipython",
    "version": 3
   },
   "file_extension": ".py",
   "mimetype": "text/x-python",
   "name": "python",
   "nbconvert_exporter": "python",
   "pygments_lexer": "ipython3",
   "version": "3.11.7"
  },
  "orig_nbformat": 4
 },
 "nbformat": 4,
 "nbformat_minor": 2
}
