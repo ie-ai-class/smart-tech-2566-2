{
 "cells": [
  {
   "cell_type": "markdown",
   "metadata": {},
   "source": [
    "# Random forest regression\n"
   ]
  },
  {
   "cell_type": "code",
   "execution_count": null,
   "metadata": {},
   "outputs": [],
   "source": [
    "import os, sys, pathlib\n",
    "\n",
    "UTILS_FOLDER = \"S00 - Utils\"\n",
    "curPath = os.getcwd()\n",
    "parPath = pathlib.Path(curPath).parent\n",
    "utilPath = os.path.join(parPath, UTILS_FOLDER)\n",
    "for p in [curPath, str(parPath), utilPath]:\n",
    "    sys.path.append(p)"
   ]
  },
  {
   "cell_type": "code",
   "execution_count": null,
   "metadata": {},
   "outputs": [],
   "source": [
    "import pandas as pd\n",
    "import numpy as np\n",
    "from sklearn.model_selection import train_test_split\n",
    "from utils import plot_reg, plot_res, store_results\n",
    "from sklearn.ensemble import RandomForestRegressor\n"
   ]
  },
  {
   "cell_type": "code",
   "execution_count": null,
   "metadata": {},
   "outputs": [],
   "source": [
    "# Load data\n",
    "df = pd.read_excel(\n",
    "    f\"{utilPath}/housing_data.xlsx\",\n",
    ")\n",
    "\n",
    "# Extract data\n",
    "X = df[[\"LSTAT\"]].values\n",
    "y = df[\"MEDV\"].values\n",
    "\n",
    "# Split data\n",
    "X_train, X_test, y_train, y_test = train_test_split(X, y, test_size=0.3, random_state=0)"
   ]
  },
  {
   "cell_type": "code",
   "execution_count": null,
   "metadata": {},
   "outputs": [],
   "source": [
    "max_depths = [1, 2, 3, 4, 5, None]\n",
    "\n",
    "paramSet = {}\n",
    "for i, md in enumerate(max_depths):\n",
    "    paramSet[f'ex{i}'] = {\"max_depth\": md}\n",
    "\n",
    "print(paramSet)"
   ]
  },
  {
   "cell_type": "code",
   "execution_count": null,
   "metadata": {},
   "outputs": [],
   "source": [
    "results = []\n",
    "\n",
    "for name, values in paramSet.items():\n",
    "    # Create model\n",
    "    model =  RandomForestRegressor(**values)\n",
    "\n",
    "    # Train model\n",
    "    model.fit(X_train, y_train)\n",
    "\n",
    "    # Predict\n",
    "    y_train_pred = model.predict(X_train)\n",
    "    y_test_pred = model.predict(X_test)\n",
    "\n",
    "    # Store results\n",
    "    store_results(\n",
    "        results=results,\n",
    "        model_name=f\"{name}\",\n",
    "        model=model,\n",
    "        y_train=y_train,\n",
    "        y_test=y_test,\n",
    "        y_train_pred=y_train_pred,\n",
    "        y_test_pred=y_test_pred,\n",
    "        params=values,\n",
    "    )\n",
    "\n",
    "    # Plotting\n",
    "    plot_reg(X_train, X_test, y_train, y_test, y_train_pred, y_test_pred)\n",
    "    # plot_res(y_train, y_test, y_train_pred, y_test_pred)\n",
    "\n",
    "df = pd.DataFrame.from_records(results)\n",
    "display(df)"
   ]
  }
 ],
 "metadata": {
  "kernelspec": {
   "display_name": "Python 3.9.7 ('base')",
   "language": "python",
   "name": "python3"
  },
  "language_info": {
   "codemirror_mode": {
    "name": "ipython",
    "version": 3
   },
   "file_extension": ".py",
   "mimetype": "text/x-python",
   "name": "python",
   "nbconvert_exporter": "python",
   "pygments_lexer": "ipython3",
   "version": "3.11.7"
  },
  "orig_nbformat": 4,
  "vscode": {
   "interpreter": {
    "hash": "79088bb772545dc9740b3f6fd02f1fa74686ae15b783fc1c2abf8492adb1c7fb"
   }
  }
 },
 "nbformat": 4,
 "nbformat_minor": 2
}
