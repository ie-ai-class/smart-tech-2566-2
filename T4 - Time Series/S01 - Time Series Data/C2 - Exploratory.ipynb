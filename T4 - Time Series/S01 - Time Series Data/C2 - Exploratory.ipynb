{
 "cells": [
  {
   "cell_type": "markdown",
   "metadata": {},
   "source": [
    "# Exploratory data analysis for time series"
   ]
  },
  {
   "cell_type": "markdown",
   "metadata": {},
   "source": [
    "`pip install aeon statsmodels`"
   ]
  },
  {
   "cell_type": "code",
   "execution_count": null,
   "metadata": {},
   "outputs": [],
   "source": [
    "import matplotlib.pyplot as plt\n",
    "import pandas as pd\n",
    "from aeon.datasets import load_airline\n",
    "from aeon.utils.plotting import plot_series"
   ]
  },
  {
   "cell_type": "code",
   "execution_count": null,
   "metadata": {},
   "outputs": [],
   "source": [
    "# Loading the dataset\n",
    "y = load_airline()\n",
    "plot_series(y)\n",
    "plt.show()"
   ]
  },
  {
   "cell_type": "code",
   "execution_count": null,
   "metadata": {},
   "outputs": [],
   "source": [
    "plot_series(y.diff(), y.diff(2))\n",
    "plt.show()"
   ]
  },
  {
   "cell_type": "markdown",
   "metadata": {},
   "source": [
    "### Descriptive statistics\n",
    "* Basic descriptive stats, but note that common uncertainty quantifications like confidence intervals and standard errors have to be interpreted carefully as samples are not i.i.d. (independent and identically distributed random variables)."
   ]
  },
  {
   "cell_type": "code",
   "execution_count": null,
   "metadata": {},
   "outputs": [],
   "source": [
    "y.describe()"
   ]
  },
  {
   "cell_type": "markdown",
   "metadata": {},
   "source": [
    "#### Rolling mean"
   ]
  },
  {
   "cell_type": "code",
   "execution_count": null,
   "metadata": {},
   "outputs": [],
   "source": [
    "window_length = 12  # typically set to the seasonal periodicity, i.e. the period per year, e.g. 12 for monthly data"
   ]
  },
  {
   "cell_type": "code",
   "execution_count": null,
   "metadata": {},
   "outputs": [],
   "source": [
    "yt = y.rolling(window_length).mean()\n",
    "plot_series(y, yt, labels=['Original', 'Trend'])"
   ]
  },
  {
   "cell_type": "code",
   "execution_count": null,
   "metadata": {},
   "outputs": [],
   "source": [
    "#@TODO:  I cannot plot interval with index as Period.  I will have to convert index back to datetime for now. Fix this in the future\n",
    "#@TODO:  Plotting interval with plot_series requires multiIndex dataframe.  This is too much work for now.\n",
    "y2 = y.copy()\n",
    "y2.index = y2.index.to_timestamp()"
   ]
  },
  {
   "cell_type": "code",
   "execution_count": null,
   "metadata": {},
   "outputs": [],
   "source": [
    "yt = y2.rolling(window_length).mean()\n",
    "rolling_std = y2.rolling(window_length).std()\n",
    "upper = yt + (2 * rolling_std)\n",
    "lower = yt - (2 * rolling_std)\n",
    "predict_interval = pd.DataFrame()\n",
    "fig, ax = plt.subplots(1, figsize=plt.figaspect(.25))\n",
    "ax.plot(y2.index, y2.values, 'o-', label=\"original\")\n",
    "ax.plot(yt.index, yt.values, label=\"rolling mean\")\n",
    "ax.fill_between(y2.index, upper, lower, alpha=0.2, color=u'#ff7f0e', label=\"standard error\")\n",
    "plt.legend()"
   ]
  },
  {
   "cell_type": "markdown",
   "metadata": {},
   "source": [
    "### Autocorrelation"
   ]
  },
  {
   "cell_type": "code",
   "execution_count": null,
   "metadata": {},
   "outputs": [],
   "source": [
    "from pandas.plotting import lag_plot\n",
    "lags = [1, 3, 10, 30]\n",
    "fig, axs = plt.subplots(ncols=4, figsize=plt.figaspect(.25), sharey=True)\n",
    "for k, lag in enumerate(lags):\n",
    "    ax = axs[k]\n",
    "    lag_plot(y, lag=lag, ax=ax)\n",
    "    ax.set_title(f\"Lag: {lag}\")"
   ]
  },
  {
   "cell_type": "code",
   "execution_count": null,
   "metadata": {},
   "outputs": [],
   "source": [
    "# using statsmodels\n",
    "from statsmodels.tsa.stattools import acf\n",
    "from statsmodels.graphics.tsaplots import plot_acf\n",
    "acf(y, nlags=50, fft=False)\n"
   ]
  },
  {
   "cell_type": "code",
   "execution_count": null,
   "metadata": {},
   "outputs": [],
   "source": [
    "plot_acf(y, lags=50, alpha=0.05)\n",
    "# plot_acf(y.diff(), lags=50, alpha=0.05)\n",
    "plt.show()"
   ]
  },
  {
   "cell_type": "code",
   "execution_count": null,
   "metadata": {},
   "outputs": [],
   "source": [
    "# using pandas\n",
    "from pandas.plotting import autocorrelation_plot\n",
    "# autocorrelation_plot(y)\n",
    "autocorrelation_plot(y.diff())\n"
   ]
  },
  {
   "cell_type": "markdown",
   "metadata": {},
   "source": [
    "### Partial autocorrelation\n",
    "\n",
    "The partial autocorrelation at lag *k* is the partial correlation between the variables $z_t$ and $z_{t-k}$ adjusted for the intermediate variables $z_{t-1}, z_{t-2} ... z_{t-k+1}$. In other words, the correlation between $z_t$ and $z_{t-k}$ not accounted for by $z_{t-1}, z_{t-2} ... z_{t-k+1}$. \n",
    "\n",
    "* [Partial correlation](https://en.wikipedia.org/wiki/Partial_correlation) "
   ]
  },
  {
   "cell_type": "code",
   "execution_count": null,
   "metadata": {},
   "outputs": [],
   "source": [
    "# using statsmodels\n",
    "from statsmodels.graphics.tsaplots import plot_pacf\n",
    "from statsmodels.tsa.stattools import pacf\n",
    "pacf(y, nlags=10)"
   ]
  },
  {
   "cell_type": "code",
   "execution_count": null,
   "metadata": {},
   "outputs": [],
   "source": [
    "plot_pacf(y)\n",
    "plt.show()"
   ]
  }
 ],
 "metadata": {
  "kernelspec": {
   "display_name": "Python 3",
   "language": "python",
   "name": "python3"
  },
  "language_info": {
   "codemirror_mode": {
    "name": "ipython",
    "version": 3
   },
   "file_extension": ".py",
   "mimetype": "text/x-python",
   "name": "python",
   "nbconvert_exporter": "python",
   "pygments_lexer": "ipython3",
   "version": "3.11.6"
  }
 },
 "nbformat": 4,
 "nbformat_minor": 2
}
