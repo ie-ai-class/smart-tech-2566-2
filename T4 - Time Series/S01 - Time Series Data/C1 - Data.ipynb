{
 "cells": [
  {
   "cell_type": "markdown",
   "metadata": {},
   "source": [
    "# Time series data\n"
   ]
  },
  {
   "cell_type": "markdown",
   "metadata": {},
   "source": [
    "`pip install aeon statsmodels`"
   ]
  },
  {
   "cell_type": "code",
   "execution_count": null,
   "metadata": {},
   "outputs": [],
   "source": [
    "from aeon.datasets import load_airline\n",
    "from aeon.utils.plotting import plot_series\n",
    "from matplotlib import pyplot as plt\n",
    "import pandas as pd"
   ]
  },
  {
   "cell_type": "code",
   "execution_count": null,
   "metadata": {},
   "outputs": [],
   "source": [
    "# Loading the dataset\n",
    "y = load_airline()\n",
    "\n",
    "# plotting for visualization\n",
    "plot_series(y)\n",
    "plt.show()"
   ]
  },
  {
   "cell_type": "markdown",
   "metadata": {},
   "source": [
    "### Pandas `Period`"
   ]
  },
  {
   "cell_type": "code",
   "execution_count": null,
   "metadata": {},
   "outputs": [],
   "source": [
    "y.index.values[0]"
   ]
  },
  {
   "cell_type": "code",
   "execution_count": null,
   "metadata": {},
   "outputs": [],
   "source": [
    "ip = y.index.values[0]\n",
    "dir(ip)\n",
    "print(\n",
    "    ip.year,\n",
    "    ip.month,\n",
    "    ip.day,\n",
    "    ip.hour,\n",
    "    ip.minute,\n",
    "    ip.freq,\n",
    ")"
   ]
  },
  {
   "cell_type": "markdown",
   "metadata": {},
   "source": [
    "## Custom dataset"
   ]
  },
  {
   "cell_type": "code",
   "execution_count": null,
   "metadata": {},
   "outputs": [],
   "source": [
    "df1 = pd.read_csv(\"electric.csv\")\n",
    "\n",
    "# Convert the date column to datetime64\n",
    "df1[\"date\"] = pd.to_datetime(df1[\"date\"])\n",
    "\n",
    "# Conversion to period\n",
    "df1[\"date\"] = pd.DatetimeIndex(df1[\"date\"]).to_period(\"M\")\n",
    "\n",
    "# Set the date column as the index of your DataFrame dates\n",
    "df1 = df1.set_index(\"date\")\n",
    "\n",
    "# Extract series\n",
    "sr1 = df1[\"value\"]\n",
    "sr1.info()"
   ]
  },
  {
   "cell_type": "code",
   "execution_count": null,
   "metadata": {},
   "outputs": [],
   "source": [
    "# Shorter way\n",
    "# df2 = pd.read_csv(\"electric.csv\", index_col=\"date\", parse_dates=True)\n",
    "# df2.index = df2.index.to_period(\"M\")\n",
    "# sr2 = df2[\"value\"]\n",
    "# sr2.info()"
   ]
  },
  {
   "cell_type": "code",
   "execution_count": null,
   "metadata": {},
   "outputs": [],
   "source": [
    "plot_series(sr1)\n",
    "plt.show()"
   ]
  }
 ],
 "metadata": {
  "kernelspec": {
   "display_name": "Python 3",
   "language": "python",
   "name": "python3"
  },
  "language_info": {
   "codemirror_mode": {
    "name": "ipython",
    "version": 3
   },
   "file_extension": ".py",
   "mimetype": "text/x-python",
   "name": "python",
   "nbconvert_exporter": "python",
   "pygments_lexer": "ipython3",
   "version": "3.11.7"
  }
 },
 "nbformat": 4,
 "nbformat_minor": 2
}
