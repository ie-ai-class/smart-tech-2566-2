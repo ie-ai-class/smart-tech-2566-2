{
 "cells": [
  {
   "cell_type": "code",
   "execution_count": null,
   "metadata": {},
   "outputs": [],
   "source": [
    "from matplotlib import pyplot as plt\n",
    "import numpy as np\n",
    "from aeon.utils.plotting import plot_series\n",
    "from aeon.datasets import load_airline\n",
    "from aeon.forecasting.model_selection import temporal_train_test_split\n",
    "from aeon.performance_metrics.forecasting import mean_absolute_percentage_error\n",
    "import pandas as pd\n",
    "from aeon.forecasting.arima import ARIMA"
   ]
  },
  {
   "cell_type": "code",
   "execution_count": null,
   "metadata": {},
   "outputs": [],
   "source": [
    "y = load_airline()"
   ]
  },
  {
   "cell_type": "code",
   "execution_count": null,
   "metadata": {},
   "outputs": [],
   "source": [
    "random_data = np.random.random((y.shape[0], 3))\n",
    "cols = [f\"X{i+1}\" for i in range(random_data.shape[1])]\n",
    "X = pd.DataFrame(data=random_data, columns=cols, index=y.index)\n",
    "X.head()"
   ]
  },
  {
   "cell_type": "code",
   "execution_count": null,
   "metadata": {},
   "outputs": [],
   "source": [
    "y_train, y_test = temporal_train_test_split(y, test_size=36)\n",
    "X_train, X_test = temporal_train_test_split(X, test_size=36)"
   ]
  },
  {
   "cell_type": "code",
   "execution_count": null,
   "metadata": {},
   "outputs": [],
   "source": [
    "print(y_train.shape, y_test.shape)\n",
    "print(X_train.shape, X_test.shape)"
   ]
  },
  {
   "cell_type": "code",
   "execution_count": null,
   "metadata": {},
   "outputs": [],
   "source": [
    "fh = np.arange(1, 37)\n",
    "forecaster = ARIMA(order=(1, 1, 0), seasonal_order=(0, 1, 0, 12))"
   ]
  },
  {
   "cell_type": "code",
   "execution_count": null,
   "metadata": {},
   "outputs": [],
   "source": [
    "# No exogenous data\n",
    "forecaster.fit(y_train)\n",
    "y_pred = forecaster.predict(fh=fh)"
   ]
  },
  {
   "cell_type": "code",
   "execution_count": null,
   "metadata": {},
   "outputs": [],
   "source": [
    "# With exogenous data\n",
    "forecaster.fit(y_train, X=X_train)\n",
    "y_pred_ex = forecaster.predict(fh=fh, X=X_test)"
   ]
  },
  {
   "cell_type": "code",
   "execution_count": null,
   "metadata": {},
   "outputs": [],
   "source": [
    "plot_series(y, y_pred, y_pred_ex, labels=[\"y\", \"y_pred\", \"y_pred_ex\"])\n",
    "plt.show()"
   ]
  },
  {
   "cell_type": "code",
   "execution_count": null,
   "metadata": {},
   "outputs": [],
   "source": [
    "# Exogeneous data does not affect the performance of the model, which is good.\n",
    "print(mean_absolute_percentage_error(y_test, y_pred))\n",
    "print(mean_absolute_percentage_error(y_test, y_pred_ex))"
   ]
  }
 ],
 "metadata": {
  "kernelspec": {
   "display_name": "Python 3",
   "language": "python",
   "name": "python3"
  },
  "language_info": {
   "codemirror_mode": {
    "name": "ipython",
    "version": 3
   },
   "file_extension": ".py",
   "mimetype": "text/x-python",
   "name": "python",
   "nbconvert_exporter": "python",
   "pygments_lexer": "ipython3",
   "version": "3.11.6"
  }
 },
 "nbformat": 4,
 "nbformat_minor": 2
}
