{
 "cells": [
  {
   "cell_type": "markdown",
   "metadata": {},
   "source": [
    "# Train all classifiers at once"
   ]
  },
  {
   "cell_type": "code",
   "execution_count": null,
   "metadata": {},
   "outputs": [],
   "source": [
    "import os, sys, pathlib\n",
    "\n",
    "UTILS_FOLDER = 'S00 - Utils'\n",
    "curPath = os.getcwd()\n",
    "parPath = pathlib.Path(curPath).parent\n",
    "utilPath = os.path.join(parPath, UTILS_FOLDER)\n",
    "for p in [curPath, str(parPath), utilPath]:\n",
    "    sys.path.append(p)"
   ]
  },
  {
   "cell_type": "code",
   "execution_count": null,
   "metadata": {},
   "outputs": [],
   "source": [
    "from sklearn import datasets\n",
    "from sklearn.model_selection import train_test_split\n",
    "from sklearn.preprocessing import StandardScaler\n",
    "from sklearn.metrics import accuracy_score\n",
    "from utils import plot_ds\n",
    "import pandas as pd\n",
    "from sklearn.linear_model import LogisticRegression\n",
    "from sklearn.svm import SVC\n",
    "from sklearn.tree import DecisionTreeClassifier\n",
    "from sklearn.ensemble import RandomForestClassifier\n",
    "from sklearn.neighbors import KNeighborsClassifier\n",
    "from sklearn.naive_bayes import GaussianNB\n",
    "from sklearn.ensemble import AdaBoostClassifier\n",
    "from sklearn.ensemble import GradientBoostingClassifier"
   ]
  },
  {
   "cell_type": "code",
   "execution_count": null,
   "metadata": {},
   "outputs": [],
   "source": [
    "# Note that this will change the result\n",
    "SPLIT_RANDOM_STATE = 3"
   ]
  },
  {
   "cell_type": "code",
   "execution_count": null,
   "metadata": {},
   "outputs": [],
   "source": [
    "# Read data\n",
    "iris = datasets.load_iris()\n",
    "\n",
    "# Extract the last 2 columns\n",
    "X = iris.data[:, 2:4]\n",
    "y = iris.target\n",
    "\n",
    "# Split data into training and testing data\n",
    "X_train, X_test, y_train, y_test = train_test_split(\n",
    "    X, y, test_size=0.3, random_state=SPLIT_RANDOM_STATE, stratify=y\n",
    ")\n",
    "\n",
    "# Standardization\n",
    "sc = StandardScaler()\n",
    "sc.fit(X_train)\n",
    "X_train_std = sc.transform(X_train)\n",
    "X_test_std = sc.transform(X_test)"
   ]
  },
  {
   "cell_type": "code",
   "execution_count": null,
   "metadata": {},
   "outputs": [],
   "source": [
    "models = [\n",
    "    {\n",
    "        \"clf\": LogisticRegression,\n",
    "        \"params\": {\"solver\": \"lbfgs\", \"C\": 1, \"max_iter\": 100},\n",
    "    },\n",
    "    {\n",
    "        \"clf\": SVC,\n",
    "        \"params\": {\"kernel\": \"rbf\", \"C\": 1.0, \"gamma\": 0.2},\n",
    "    },\n",
    "    {\n",
    "        \"clf\": DecisionTreeClassifier,\n",
    "        \"params\": {\"criterion\": \"gini\", \"max_depth\": 4, \"min_samples_split\": 2},\n",
    "    },\n",
    "    {\n",
    "        \"clf\": RandomForestClassifier,\n",
    "        \"params\": {\n",
    "            \"criterion\": \"gini\",\n",
    "            \"n_estimators\": 25,\n",
    "            \"max_samples\": None,\n",
    "            \"max_features\": \"sqrt\",\n",
    "            \"max_depth\": None,\n",
    "        },\n",
    "    },\n",
    "    {\n",
    "        \"clf\": KNeighborsClassifier,\n",
    "        \"params\": {\n",
    "            \"n_neighbors\": 3,\n",
    "            \"p\": 2,\n",
    "            \"algorithm\": \"auto\",\n",
    "        },\n",
    "    },\n",
    "    {\n",
    "        \"clf\": GaussianNB,\n",
    "        \"params\": {},\n",
    "    },\n",
    "    {\n",
    "        \"clf\": AdaBoostClassifier,\n",
    "        \"params\": {\n",
    "            \"estimator\": None,  # Estimator is DecisionTreeClassifier initialized with max_depth=1.\n",
    "            \"n_estimators\": 500,\n",
    "            \"learning_rate\": 1,\n",
    "        },\n",
    "    },\n",
    "    {\n",
    "        \"clf\": GradientBoostingClassifier,\n",
    "        \"params\": {\n",
    "            \"learning_rate\": 0.1,\n",
    "            \"n_estimators\": 100,\n",
    "            \"min_samples_split\": 2,\n",
    "            \"min_samples_leaf\": 1,\n",
    "            \"max_depth\": 3,\n",
    "        },\n",
    "    },\n",
    "]"
   ]
  },
  {
   "cell_type": "code",
   "execution_count": null,
   "metadata": {},
   "outputs": [],
   "source": [
    "import json\n",
    "\n",
    "results = []\n",
    "\n",
    "for model in models:\n",
    "    clf = model[\"clf\"](**model[\"params\"])\n",
    "\n",
    "    # Training\n",
    "    clf.fit(X_train_std, y_train)\n",
    "\n",
    "    # Prediction\n",
    "    y_pred_train = clf.predict(X_train_std).flatten()\n",
    "    y_pred_test = clf.predict(X_test_std).flatten()\n",
    "\n",
    "    # Misclassifications\n",
    "    miss_train = (y_train != y_pred_train).sum()\n",
    "    miss_test = (y_test != y_pred_test).sum()\n",
    "\n",
    "    # Accuracy\n",
    "    acc_train = accuracy_score(y_train, y_pred_train)\n",
    "    acc_test = accuracy_score(y_test, y_pred_test)\n",
    "\n",
    "    results.append(\n",
    "        {\n",
    "            \"model\": model[\"clf\"].__name__,\n",
    "            \"Train Miss\": miss_train,\n",
    "            \"Train Acc\": acc_train,\n",
    "            \"Test Miss\": miss_test,\n",
    "            \"Test Acc\": acc_test,\n",
    "            \"params\": json.dumps(model[\"params\"]),\n",
    "        }\n",
    "    )\n",
    "\n",
    "    plot_ds(X_train_std, X_test_std, y_train, y_test, clf)"
   ]
  },
  {
   "cell_type": "code",
   "execution_count": null,
   "metadata": {},
   "outputs": [],
   "source": [
    "df = pd.DataFrame.from_records(results)\n",
    "display(df)\n",
    "df.to_excel(\"results.xlsx\", index=False)"
   ]
  }
 ],
 "metadata": {
  "kernelspec": {
   "display_name": "Python 3",
   "language": "python",
   "name": "python3"
  },
  "language_info": {
   "codemirror_mode": {
    "name": "ipython",
    "version": 3
   },
   "file_extension": ".py",
   "mimetype": "text/x-python",
   "name": "python",
   "nbconvert_exporter": "python",
   "pygments_lexer": "ipython3",
   "version": "3.11.7"
  }
 },
 "nbformat": 4,
 "nbformat_minor": 2
}
