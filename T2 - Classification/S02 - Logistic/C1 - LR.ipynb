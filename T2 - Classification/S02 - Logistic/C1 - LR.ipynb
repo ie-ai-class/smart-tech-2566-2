{
 "cells": [
  {
   "cell_type": "markdown",
   "metadata": {},
   "source": [
    "# Logistic Regression - Multiclass\n",
    "- Iris dataset\n",
    "- Multiclass classification"
   ]
  },
  {
   "cell_type": "code",
   "execution_count": null,
   "metadata": {},
   "outputs": [],
   "source": [
    "import os, sys, pathlib\n",
    "UTILS_FOLDER = 'S00 - Utils'\n",
    "curPath = os.getcwd()\n",
    "parPath = pathlib.Path(curPath).parent\n",
    "utilPath = os.path.join(parPath, UTILS_FOLDER)\n",
    "for p in [curPath, str(parPath), utilPath]:\n",
    "    sys.path.append(p)"
   ]
  },
  {
   "cell_type": "code",
   "execution_count": null,
   "metadata": {},
   "outputs": [],
   "source": [
    "import numpy as np\n",
    "import pandas as pd\n",
    "from sklearn import datasets\n",
    "from sklearn.model_selection import train_test_split\n",
    "from sklearn.preprocessing import StandardScaler\n",
    "from sklearn.linear_model import LogisticRegression\n",
    "from sklearn.metrics import accuracy_score\n",
    "from utils import plot_ds"
   ]
  },
  {
   "cell_type": "code",
   "execution_count": null,
   "metadata": {},
   "outputs": [],
   "source": [
    "# Load data\n",
    "iris = datasets.load_iris()"
   ]
  },
  {
   "cell_type": "code",
   "execution_count": null,
   "metadata": {},
   "outputs": [],
   "source": [
    "# Extract the last 2 columns\n",
    "X = iris.data[:, 2:4]\n",
    "y = iris.target"
   ]
  },
  {
   "cell_type": "code",
   "execution_count": null,
   "metadata": {},
   "outputs": [],
   "source": [
    "# Split data into training and testing data\n",
    "X_train, X_test, y_train, y_test = train_test_split( X, y, test_size=0.3, random_state=1, stratify=y)"
   ]
  },
  {
   "cell_type": "code",
   "execution_count": null,
   "metadata": {},
   "outputs": [],
   "source": [
    "# Standardization\n",
    "sc = StandardScaler()\n",
    "sc.fit(X_train)\n",
    "X_train_std = sc.transform(X_train)\n",
    "X_test_std = sc.transform(X_test)"
   ]
  },
  {
   "cell_type": "code",
   "execution_count": null,
   "metadata": {},
   "outputs": [],
   "source": [
    "# Hyper-parameters\n",
    "solver='lbfgs'\n",
    "C=0.0001\n",
    "max_iter=100"
   ]
  },
  {
   "cell_type": "code",
   "execution_count": null,
   "metadata": {},
   "outputs": [],
   "source": [
    "# Logistic regression object\n",
    "lr = LogisticRegression(\n",
    "    random_state=1,\n",
    "    verbose=1,\n",
    "    solver=solver,\n",
    "    C=C,\n",
    "    max_iter=max_iter)"
   ]
  },
  {
   "cell_type": "code",
   "execution_count": null,
   "metadata": {},
   "outputs": [],
   "source": [
    "# Training\n",
    "lr.fit(X_train_std, y_train)"
   ]
  },
  {
   "cell_type": "code",
   "execution_count": null,
   "metadata": {},
   "outputs": [],
   "source": [
    "# Prediction from test data\n",
    "y_pred = lr.predict(X_test_std)"
   ]
  },
  {
   "cell_type": "code",
   "execution_count": null,
   "metadata": {},
   "outputs": [],
   "source": [
    "# How class label is predicted from probability.\n",
    "comb = np.concatenate((X_test_std, lr.predict_proba(X_test_std), y_pred.reshape(-1,1)), axis=1) \n",
    "temp = pd.DataFrame(comb, columns=['X1_std','X2_std','Prob of Class 0', 'Prob of Class 1', 'Prob of Class 2', 'Prediction'])\n",
    "temp.head()"
   ]
  },
  {
   "cell_type": "code",
   "execution_count": null,
   "metadata": {},
   "outputs": [],
   "source": [
    "# Norm of weight coefficients (affected by C values)\n",
    "print(f\"Norm of W: {np.linalg.norm(lr.coef_)}\")"
   ]
  },
  {
   "cell_type": "code",
   "execution_count": null,
   "metadata": {},
   "outputs": [],
   "source": [
    "# Printing results\n",
    "sumMiss = (y_test != y_pred).sum()\n",
    "accuracyScore = accuracy_score(y_test, y_pred)\n",
    "print(f\"Misclassified examples: {sumMiss}\")\n",
    "print(f\"Accuracy score: {accuracyScore}\")"
   ]
  },
  {
   "cell_type": "code",
   "execution_count": null,
   "metadata": {},
   "outputs": [],
   "source": [
    "# Plot decision regions\n",
    "plot_ds(X_train_std, X_test_std, y_train, y_test, lr)"
   ]
  },
  {
   "cell_type": "markdown",
   "metadata": {},
   "source": [
    "## Searching for best parameters"
   ]
  },
  {
   "cell_type": "code",
   "execution_count": null,
   "metadata": {},
   "outputs": [],
   "source": [
    "paramSet = {\n",
    "    \"ex1\": {\"solver\": \"lbfgs\", \"C\": 0.0001, \"max_iter\": 100},\n",
    "    \"ex2\": {\"solver\": \"lbfgs\", \"C\": 0.01, \"max_iter\": 100},\n",
    "    \"ex3\": {\"solver\": \"lbfgs\", \"C\": 1, \"max_iter\": 100},\n",
    "    \"ex4\": {\"solver\": \"lbfgs\", \"C\": 100, \"max_iter\": 100},\n",
    "    \"ex5\": {\"solver\": \"lbfgs\", \"C\": 10000, \"max_iter\": 100},\n",
    "}"
   ]
  },
  {
   "cell_type": "code",
   "execution_count": null,
   "metadata": {},
   "outputs": [],
   "source": [
    "for paramName, paramValue in paramSet.items():\n",
    "    lr = LogisticRegression(\n",
    "        random_state=1,\n",
    "        verbose=0,\n",
    "        solver=paramValue[\"solver\"],\n",
    "        C=paramValue[\"C\"],\n",
    "        max_iter=paramValue[\"max_iter\"],\n",
    "    )\n",
    "\n",
    "    # Training\n",
    "    lr.fit(X_train_std, y_train)\n",
    "\n",
    "    # Prediction\n",
    "    y_pred = lr.predict(X_test_std)\n",
    "\n",
    "    # Misclassification from the test samples\n",
    "    sumMiss = (y_test != y_pred).sum()\n",
    "\n",
    "    # Accuracy score from the test samples\n",
    "    accuracyScore = accuracy_score(y_test, y_pred)\n",
    "\n",
    "    print(f\"Parameters: {paramValue}\")\n",
    "    print(f\"Misclassified examples: {sumMiss}\")\n",
    "    print(f\"Accuracy score: {accuracyScore}\")\n",
    "    print(f\"Norm of W: {np.linalg.norm(lr.coef_)}\")\n",
    "    print(f\"--------------------------------------------------\")\n",
    "    # Plot decision regions\n",
    "    plot_ds(\n",
    "        X_train_std, X_test_std, y_train, y_test, lr)"
   ]
  }
 ],
 "metadata": {
  "kernelspec": {
   "display_name": "Python 3.9.7 ('base')",
   "language": "python",
   "name": "python3"
  },
  "language_info": {
   "codemirror_mode": {
    "name": "ipython",
    "version": 3
   },
   "file_extension": ".py",
   "mimetype": "text/x-python",
   "name": "python",
   "nbconvert_exporter": "python",
   "pygments_lexer": "ipython3",
   "version": "3.11.7"
  },
  "orig_nbformat": 4,
  "vscode": {
   "interpreter": {
    "hash": "79088bb772545dc9740b3f6fd02f1fa74686ae15b783fc1c2abf8492adb1c7fb"
   }
  }
 },
 "nbformat": 4,
 "nbformat_minor": 2
}
