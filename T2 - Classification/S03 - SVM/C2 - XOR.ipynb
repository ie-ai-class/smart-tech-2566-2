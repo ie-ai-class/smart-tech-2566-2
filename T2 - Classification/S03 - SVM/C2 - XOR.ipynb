{
 "cells": [
  {
   "cell_type": "markdown",
   "metadata": {},
   "source": [
    "# Support Vector Machine\n",
    "- XOR or “exclusive or”\n",
    "- An XOR function should return a true value if the two inputs are not equal and a false value if they are equal."
   ]
  },
  {
   "cell_type": "code",
   "execution_count": null,
   "metadata": {},
   "outputs": [],
   "source": [
    "import os, sys, pathlib\n",
    "UTILS_FOLDER = 'S00 - Utils'\n",
    "curPath = os.getcwd()\n",
    "parPath = pathlib.Path(curPath).parent\n",
    "utilPath = os.path.join(parPath, UTILS_FOLDER)\n",
    "for p in [curPath, str(parPath), utilPath]:\n",
    "    sys.path.append(p)"
   ]
  },
  {
   "cell_type": "code",
   "execution_count": null,
   "metadata": {},
   "outputs": [],
   "source": [
    "import numpy as np\n",
    "import matplotlib.pyplot as plt\n",
    "from sklearn.svm import SVC\n",
    "import os"
   ]
  },
  {
   "cell_type": "code",
   "execution_count": null,
   "metadata": {},
   "outputs": [],
   "source": [
    "# Set this to True to write the images to disk\n",
    "WRITE_IMAGE = False\n",
    "\n",
    "if (WRITE_IMAGE):\n",
    "    imagePath = os.path.join(os.getcwd(),'images')\n",
    "    if (not(os.path.isdir(imagePath))):\n",
    "        os.mkdir(imagePath)"
   ]
  },
  {
   "cell_type": "code",
   "execution_count": null,
   "metadata": {},
   "outputs": [],
   "source": [
    "# Create data\n",
    "def create_XOR_data(filename=\"\"):\n",
    "    np.random.seed(1)\n",
    "    X_xor = np.random.randn(200, 2)\n",
    "    y_xor = np.logical_xor(X_xor[:, 0] > 0, X_xor[:, 1] > 0)\n",
    "    y_xor = np.where(y_xor, 1, -1)\n",
    "    # Plot data\n",
    "    fig1, ax1 = plt.subplots(1, figsize=(5, 5))\n",
    "    ax1.scatter(X_xor[y_xor == -1, 0], X_xor[y_xor == -1, 1], marker=\"s\", label=\"-1\")\n",
    "    ax1.scatter(X_xor[y_xor == 1, 0], X_xor[y_xor == 1, 1], marker=\"x\", label=\"1\")\n",
    "    ax1.set_xlim([-3, 3])\n",
    "    ax1.set_ylim([-3, 3])\n",
    "    ax1.legend()\n",
    "\n",
    "    if filename:\n",
    "        fig1.savefig(filename, dpi=300)\n",
    "        \n",
    "    return (X_xor, y_xor)"
   ]
  },
  {
   "cell_type": "code",
   "execution_count": null,
   "metadata": {},
   "outputs": [],
   "source": [
    "def plot_result(X, y, svm, filename=\"\", title=\"\"):\n",
    "    # Plotting result\n",
    "    xx1, xx2 = np.meshgrid(np.arange(-3, 3, 0.02), np.arange(-3, 3, 0.02))\n",
    "    Z = svm.predict(np.array([xx1.ravel(), xx2.ravel()]).T)\n",
    "    Z = Z.reshape(xx1.shape)\n",
    "    markers = (\"s\", \"^\")\n",
    "    fig2, ax2 = plt.subplots(1, figsize=(5, 5))\n",
    "    ax2.contourf(xx1, xx2, Z, alpha=0.4)\n",
    "    for idx, cl in enumerate(np.unique(y)):\n",
    "        ax2.scatter(\n",
    "            x=X[y == cl, 0],\n",
    "            y=X[y == cl, 1],\n",
    "            alpha=0.6,\n",
    "            edgecolor=\"black\",\n",
    "            marker=markers[idx],\n",
    "            label=cl,\n",
    "        )\n",
    "    if (title):\n",
    "        ax2.set_title(title)\n",
    "    ax2.set_xlim([xx1.min(), xx1.max()])\n",
    "    ax2.set_ylim([xx2.min(), xx2.max()])\n",
    "    ax2.set_xlabel(\"X1\")\n",
    "    ax2.set_ylabel(\"X2\")\n",
    "    ax2.legend()\n",
    "    \n",
    "    if (filename):\n",
    "        fig2.savefig(filename, dpi=300)\n"
   ]
  },
  {
   "cell_type": "code",
   "execution_count": null,
   "metadata": {},
   "outputs": [],
   "source": [
    "# Create XOR data\n",
    "X, y = create_XOR_data()"
   ]
  },
  {
   "cell_type": "code",
   "execution_count": null,
   "metadata": {},
   "outputs": [],
   "source": [
    "paramSetAll = {\n",
    "    \"ex1\": {\"gamma\": 0.01, \"C\": 10},\n",
    "    \"ex2\": {\"gamma\": 0.1, \"C\": 10},\n",
    "    \"ex3\": {\"gamma\": 1, \"C\": 10},\n",
    "    \"ex4\": {\"gamma\": 10, \"C\": 10},\n",
    "    \"ex5\": {\"gamma\": 0.1, \"C\": 0.01},\n",
    "    \"ex6\": {\"gamma\": 0.1, \"C\": 1},\n",
    "    \"ex7\": {\"gamma\": 0.1, \"C\": 100},\n",
    "    \"ex8\": {\"gamma\": 0.1, \"C\": 1000},\n",
    "}"
   ]
  },
  {
   "cell_type": "code",
   "execution_count": null,
   "metadata": {},
   "outputs": [],
   "source": [
    "cl = list(range(1,9))\n",
    "ca = [ f'ex{i}' for i in cl]\n",
    "paramSet = { k: paramSetAll[k] for k in ca} \n",
    "#print(paramSet)"
   ]
  },
  {
   "cell_type": "code",
   "execution_count": null,
   "metadata": {},
   "outputs": [],
   "source": [
    "for ex, param in paramSet.items():\n",
    "    # Extract parameteres\n",
    "    gamma = param['gamma']\n",
    "    C = param['C']\n",
    "    # Creating objects\n",
    "    svm = SVC(kernel=\"rbf\", random_state=1, gamma=gamma, C=C)\n",
    "    # Training\n",
    "    svm.fit(X, y)\n",
    "    # Plot result\n",
    "    title = f\"γ = {gamma}, C = {C}\"\n",
    "    if (WRITE_IMAGE):\n",
    "        filename = f\"images/XOR_{ex}.png\"\n",
    "    else:\n",
    "        filename = \"\"\n",
    "    plot_result(X, y, svm, filename, title)"
   ]
  }
 ],
 "metadata": {
  "kernelspec": {
   "display_name": "Python 3.9.7 ('base')",
   "language": "python",
   "name": "python3"
  },
  "language_info": {
   "codemirror_mode": {
    "name": "ipython",
    "version": 3
   },
   "file_extension": ".py",
   "mimetype": "text/x-python",
   "name": "python",
   "nbconvert_exporter": "python",
   "pygments_lexer": "ipython3",
   "version": "3.11.7"
  },
  "orig_nbformat": 4,
  "vscode": {
   "interpreter": {
    "hash": "79088bb772545dc9740b3f6fd02f1fa74686ae15b783fc1c2abf8492adb1c7fb"
   }
  }
 },
 "nbformat": 4,
 "nbformat_minor": 2
}
