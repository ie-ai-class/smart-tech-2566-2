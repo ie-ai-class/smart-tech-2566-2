{
 "cells": [
  {
   "cell_type": "markdown",
   "metadata": {},
   "source": [
    "# Random forest\n",
    "- Iris dataset\n",
    "- 2 features\n",
    "- Multiclass"
   ]
  },
  {
   "cell_type": "code",
   "execution_count": null,
   "metadata": {},
   "outputs": [],
   "source": [
    "import os, sys, pathlib\n",
    "UTILS_FOLDER = 'S00 - Utils'\n",
    "curPath = os.getcwd()\n",
    "parPath = pathlib.Path(curPath).parent\n",
    "utilPath = os.path.join(parPath, UTILS_FOLDER)\n",
    "for p in [curPath, str(parPath), utilPath]:\n",
    "    sys.path.append(p)"
   ]
  },
  {
   "cell_type": "code",
   "execution_count": null,
   "metadata": {},
   "outputs": [],
   "source": [
    "import matplotlib.pyplot as plt\n",
    "from sklearn import datasets\n",
    "from sklearn.model_selection import train_test_split\n",
    "from sklearn.preprocessing import StandardScaler\n",
    "from sklearn.metrics import accuracy_score\n",
    "from utils import plot_ds\n",
    "from sklearn.ensemble import RandomForestClassifier\n",
    "from sklearn import tree"
   ]
  },
  {
   "cell_type": "code",
   "execution_count": null,
   "metadata": {},
   "outputs": [],
   "source": [
    "WRITE_FILE = False\n",
    "\n",
    "if WRITE_FILE:\n",
    "    imagePath = os.path.join(os.getcwd(),'images')\n",
    "    if (not(os.path.isdir(imagePath))):\n",
    "        os.mkdir(imagePath)"
   ]
  },
  {
   "cell_type": "code",
   "execution_count": null,
   "metadata": {},
   "outputs": [],
   "source": [
    "# Read data\n",
    "iris = datasets.load_iris()\n",
    "\n",
    "# Extract the last 2 columns\n",
    "X = iris.data[:, 2:4]\n",
    "y = iris.target\n",
    "\n",
    "# Split data into training and testing data\n",
    "X_train, X_test, y_train, y_test = train_test_split(\n",
    "    X, y, test_size=0.3, random_state=1, stratify=y\n",
    ")\n",
    "\n",
    "# Standardization\n",
    "sc = StandardScaler()\n",
    "sc.fit(X_train)\n",
    "X_train_std = sc.transform(X_train)\n",
    "X_test_std = sc.transform(X_test)"
   ]
  },
  {
   "cell_type": "code",
   "execution_count": null,
   "metadata": {},
   "outputs": [],
   "source": [
    "param = \"ex1\"\n",
    "paramSetAll = {\n",
    "    \"ex1\": {\n",
    "        \"criterion\": \"gini\",\n",
    "        \"n_estimators\": 25,\n",
    "        \"max_samples\": None,\n",
    "        \"max_features\": \"sqrt\",\n",
    "        \"max_depth\": None,\n",
    "    },\n",
    "    \"ex2\": {\n",
    "        \"criterion\": \"gini\",\n",
    "        \"n_estimators\": 100,\n",
    "        \"max_samples\": None,\n",
    "        \"max_features\": \"sqrt\",\n",
    "        \"max_depth\": 2,\n",
    "    },\n",
    "    \"ex3\": {\n",
    "        \"criterion\": \"gini\",\n",
    "        \"n_estimators\": 200,\n",
    "        \"max_samples\": 20,\n",
    "        \"max_features\": \"sqrt\",\n",
    "        \"max_depth\": 2,\n",
    "    },\n",
    "}\n",
    "paramValue = paramSetAll[param]\n",
    "\n",
    "# Creating model\n",
    "forest = RandomForestClassifier(**paramValue)"
   ]
  },
  {
   "cell_type": "code",
   "execution_count": null,
   "metadata": {},
   "outputs": [],
   "source": [
    "# Training\n",
    "forest.fit(X_train_std, y_train)\n",
    "\n",
    "# Prediction\n",
    "y_pred = forest.predict(X_test_std)\n",
    "\n",
    "# Misclassification from the test samples\n",
    "sumMiss = (y_test != y_pred).sum()\n",
    "\n",
    "# Accuracy score from the test samples\n",
    "accuracyScore = accuracy_score(y_test, y_pred)\n",
    "\n",
    "print(f\"Misclassified examples: {sumMiss}\")\n",
    "print(f\"Accuracy score: {accuracyScore}\")\n",
    "\n",
    "# Plot decision regions\n",
    "plot_ds(X_train_std, X_test_std, y_train, y_test, forest)"
   ]
  },
  {
   "cell_type": "code",
   "execution_count": null,
   "metadata": {},
   "outputs": [],
   "source": [
    "#Create label names\n",
    "fn = [ st.replace(\"(cm)\", \"(scaled)\") for st in iris.feature_names]\n",
    "print(fn)\n",
    "\n",
    "#Visualize trees\n",
    "nTrees = 5\n",
    "fig, ax = plt.subplots(1, nTrees, figsize=(40, 8))\n",
    "for i in range(0, nTrees):\n",
    "    plt.sca(ax[i])\n",
    "    tree.plot_tree(\n",
    "        forest.estimators_[i],\n",
    "        feature_names=iris.feature_names[2:4],\n",
    "        class_names=iris.target_names,\n",
    "        filled=True,\n",
    "    )\n",
    "\n",
    "if WRITE_FILE:\n",
    "    filenamePDF = \"images/rf_\" + param + \".pdf\"\n",
    "    fig.savefig(filenamePDF)"
   ]
  }
 ],
 "metadata": {
  "kernelspec": {
   "display_name": "Python 3.9.7 ('base')",
   "language": "python",
   "name": "python3"
  },
  "language_info": {
   "codemirror_mode": {
    "name": "ipython",
    "version": 3
   },
   "file_extension": ".py",
   "mimetype": "text/x-python",
   "name": "python",
   "nbconvert_exporter": "python",
   "pygments_lexer": "ipython3",
   "version": "3.11.7"
  },
  "orig_nbformat": 4,
  "vscode": {
   "interpreter": {
    "hash": "79088bb772545dc9740b3f6fd02f1fa74686ae15b783fc1c2abf8492adb1c7fb"
   }
  }
 },
 "nbformat": 4,
 "nbformat_minor": 2
}
