{
 "cells": [
  {
   "cell_type": "markdown",
   "metadata": {},
   "source": [
    "# CatBoost\n",
    "\n",
    "`pip install catboost`\n"
   ]
  },
  {
   "cell_type": "code",
   "execution_count": 20,
   "metadata": {},
   "outputs": [],
   "source": [
    "import os, sys, pathlib\n",
    "\n",
    "UTILS_FOLDER = 'S00 - Utils'\n",
    "curPath = os.getcwd()\n",
    "parPath = pathlib.Path(curPath).parent\n",
    "utilPath = os.path.join(parPath, UTILS_FOLDER)\n",
    "for p in [curPath, str(parPath), utilPath]:\n",
    "    sys.path.append(p)"
   ]
  },
  {
   "cell_type": "code",
   "execution_count": 21,
   "metadata": {},
   "outputs": [],
   "source": [
    "from sklearn import datasets\n",
    "from sklearn.model_selection import train_test_split\n",
    "from sklearn.preprocessing import StandardScaler\n",
    "from sklearn.metrics import accuracy_score\n",
    "from utils import plot_ds\n",
    "from catboost import CatBoostClassifier"
   ]
  },
  {
   "cell_type": "code",
   "execution_count": 22,
   "metadata": {},
   "outputs": [],
   "source": [
    "# Read data\n",
    "iris = datasets.load_iris()\n",
    "\n",
    "# Extract the last 2 columns\n",
    "X = iris.data[:, 2:4]\n",
    "y = iris.target\n",
    "\n",
    "# Split data into training and testing data\n",
    "X_train, X_test, y_train, y_test = train_test_split(\n",
    "    X, y, test_size=0.3, random_state=1, stratify=y\n",
    ")\n",
    "\n",
    "# Standardization\n",
    "sc = StandardScaler()\n",
    "sc.fit(X_train)\n",
    "X_train_std = sc.transform(X_train)\n",
    "X_test_std = sc.transform(X_test)"
   ]
  },
  {
   "cell_type": "code",
   "execution_count": 23,
   "metadata": {},
   "outputs": [],
   "source": [
    "# Model\n",
    "cat = CatBoostClassifier(n_estimators=100)"
   ]
  },
  {
   "cell_type": "code",
   "execution_count": 24,
   "metadata": {},
   "outputs": [
    {
     "name": "stdout",
     "output_type": "stream",
     "text": [
      "Learning rate set to 0.493633\n",
      "0:\tlearn: 0.6042063\ttotal: 577us\tremaining: 57.2ms\n",
      "1:\tlearn: 0.4060534\ttotal: 970us\tremaining: 47.5ms\n",
      "2:\tlearn: 0.3047512\ttotal: 1.37ms\tremaining: 44.2ms\n",
      "3:\tlearn: 0.2471369\ttotal: 1.75ms\tremaining: 42.1ms\n",
      "4:\tlearn: 0.1987653\ttotal: 2ms\tremaining: 38ms\n",
      "5:\tlearn: 0.1672899\ttotal: 2.38ms\tremaining: 37.3ms\n",
      "6:\tlearn: 0.1466235\ttotal: 2.78ms\tremaining: 36.9ms\n",
      "7:\tlearn: 0.1308757\ttotal: 3.13ms\tremaining: 36ms\n",
      "8:\tlearn: 0.1156146\ttotal: 3.5ms\tremaining: 35.4ms\n",
      "9:\tlearn: 0.1047826\ttotal: 3.86ms\tremaining: 34.7ms\n",
      "10:\tlearn: 0.0937903\ttotal: 4.23ms\tremaining: 34.2ms\n",
      "11:\tlearn: 0.0834648\ttotal: 4.61ms\tremaining: 33.8ms\n",
      "12:\tlearn: 0.0762269\ttotal: 4.97ms\tremaining: 33.3ms\n",
      "13:\tlearn: 0.0710345\ttotal: 5.4ms\tremaining: 33.2ms\n",
      "14:\tlearn: 0.0680791\ttotal: 5.84ms\tremaining: 33.1ms\n",
      "15:\tlearn: 0.0654258\ttotal: 6.21ms\tremaining: 32.6ms\n",
      "16:\tlearn: 0.0630251\ttotal: 6.57ms\tremaining: 32.1ms\n",
      "17:\tlearn: 0.0587160\ttotal: 6.93ms\tremaining: 31.6ms\n",
      "18:\tlearn: 0.0551027\ttotal: 7.3ms\tremaining: 31.1ms\n",
      "19:\tlearn: 0.0526609\ttotal: 7.67ms\tremaining: 30.7ms\n",
      "20:\tlearn: 0.0499914\ttotal: 8.08ms\tremaining: 30.4ms\n",
      "21:\tlearn: 0.0485107\ttotal: 8.47ms\tremaining: 30ms\n",
      "22:\tlearn: 0.0472593\ttotal: 8.87ms\tremaining: 29.7ms\n",
      "23:\tlearn: 0.0459510\ttotal: 9.3ms\tremaining: 29.4ms\n",
      "24:\tlearn: 0.0442791\ttotal: 9.69ms\tremaining: 29.1ms\n",
      "25:\tlearn: 0.0432582\ttotal: 10.1ms\tremaining: 28.6ms\n",
      "26:\tlearn: 0.0423947\ttotal: 10.4ms\tremaining: 28.2ms\n",
      "27:\tlearn: 0.0417188\ttotal: 10.9ms\tremaining: 28.1ms\n",
      "28:\tlearn: 0.0412091\ttotal: 11.3ms\tremaining: 27.7ms\n",
      "29:\tlearn: 0.0400161\ttotal: 11.8ms\tremaining: 27.5ms\n",
      "30:\tlearn: 0.0394868\ttotal: 12.2ms\tremaining: 27.2ms\n",
      "31:\tlearn: 0.0383963\ttotal: 12.7ms\tremaining: 27.1ms\n",
      "32:\tlearn: 0.0378411\ttotal: 13.3ms\tremaining: 26.9ms\n",
      "33:\tlearn: 0.0372603\ttotal: 13.7ms\tremaining: 26.7ms\n",
      "34:\tlearn: 0.0367723\ttotal: 14.3ms\tremaining: 26.5ms\n",
      "35:\tlearn: 0.0363533\ttotal: 14.8ms\tremaining: 26.3ms\n",
      "36:\tlearn: 0.0359332\ttotal: 15.2ms\tremaining: 25.9ms\n",
      "37:\tlearn: 0.0355311\ttotal: 15.6ms\tremaining: 25.5ms\n",
      "38:\tlearn: 0.0351878\ttotal: 15.9ms\tremaining: 24.8ms\n",
      "39:\tlearn: 0.0344837\ttotal: 16.4ms\tremaining: 24.6ms\n",
      "40:\tlearn: 0.0338397\ttotal: 16.8ms\tremaining: 24.2ms\n",
      "41:\tlearn: 0.0332332\ttotal: 17.3ms\tremaining: 23.9ms\n",
      "42:\tlearn: 0.0327525\ttotal: 17.7ms\tremaining: 23.5ms\n",
      "43:\tlearn: 0.0324220\ttotal: 18ms\tremaining: 22.9ms\n",
      "44:\tlearn: 0.0321162\ttotal: 18.4ms\tremaining: 22.5ms\n",
      "45:\tlearn: 0.0318137\ttotal: 18.6ms\tremaining: 21.9ms\n",
      "46:\tlearn: 0.0316078\ttotal: 19.1ms\tremaining: 21.5ms\n",
      "47:\tlearn: 0.0312181\ttotal: 19.5ms\tremaining: 21.1ms\n",
      "48:\tlearn: 0.0307749\ttotal: 19.9ms\tremaining: 20.7ms\n",
      "49:\tlearn: 0.0305490\ttotal: 20.3ms\tremaining: 20.3ms\n",
      "50:\tlearn: 0.0303845\ttotal: 20.7ms\tremaining: 19.9ms\n",
      "51:\tlearn: 0.0301871\ttotal: 21.2ms\tremaining: 19.6ms\n",
      "52:\tlearn: 0.0298994\ttotal: 21.6ms\tremaining: 19.2ms\n",
      "53:\tlearn: 0.0295336\ttotal: 22ms\tremaining: 18.8ms\n",
      "54:\tlearn: 0.0293904\ttotal: 22.5ms\tremaining: 18.4ms\n",
      "55:\tlearn: 0.0292153\ttotal: 22.9ms\tremaining: 18ms\n",
      "56:\tlearn: 0.0290863\ttotal: 23.3ms\tremaining: 17.6ms\n",
      "57:\tlearn: 0.0288422\ttotal: 23.8ms\tremaining: 17.2ms\n",
      "58:\tlearn: 0.0285763\ttotal: 24.2ms\tremaining: 16.8ms\n",
      "59:\tlearn: 0.0283320\ttotal: 24.7ms\tremaining: 16.5ms\n",
      "60:\tlearn: 0.0281006\ttotal: 25.2ms\tremaining: 16.1ms\n",
      "61:\tlearn: 0.0279623\ttotal: 25.6ms\tremaining: 15.7ms\n",
      "62:\tlearn: 0.0278414\ttotal: 26.1ms\tremaining: 15.3ms\n",
      "63:\tlearn: 0.0277098\ttotal: 26.6ms\tremaining: 15ms\n",
      "64:\tlearn: 0.0275085\ttotal: 27.1ms\tremaining: 14.6ms\n",
      "65:\tlearn: 0.0273132\ttotal: 27.5ms\tremaining: 14.2ms\n",
      "66:\tlearn: 0.0272115\ttotal: 28ms\tremaining: 13.8ms\n",
      "67:\tlearn: 0.0269927\ttotal: 28.4ms\tremaining: 13.4ms\n",
      "68:\tlearn: 0.0268951\ttotal: 28.8ms\tremaining: 13ms\n",
      "69:\tlearn: 0.0266993\ttotal: 29.3ms\tremaining: 12.6ms\n",
      "70:\tlearn: 0.0265969\ttotal: 29.7ms\tremaining: 12.1ms\n",
      "71:\tlearn: 0.0264986\ttotal: 30ms\tremaining: 11.7ms\n",
      "72:\tlearn: 0.0264290\ttotal: 30.5ms\tremaining: 11.3ms\n",
      "73:\tlearn: 0.0263371\ttotal: 31ms\tremaining: 10.9ms\n",
      "74:\tlearn: 0.0261661\ttotal: 31.5ms\tremaining: 10.5ms\n",
      "75:\tlearn: 0.0260998\ttotal: 31.8ms\tremaining: 10ms\n",
      "76:\tlearn: 0.0259287\ttotal: 32.2ms\tremaining: 9.62ms\n",
      "77:\tlearn: 0.0258376\ttotal: 32.6ms\tremaining: 9.2ms\n",
      "78:\tlearn: 0.0256874\ttotal: 33.1ms\tremaining: 8.8ms\n",
      "79:\tlearn: 0.0256118\ttotal: 33.5ms\tremaining: 8.37ms\n",
      "80:\tlearn: 0.0255492\ttotal: 33.9ms\tremaining: 7.94ms\n",
      "81:\tlearn: 0.0254425\ttotal: 34.4ms\tremaining: 7.55ms\n",
      "82:\tlearn: 0.0253060\ttotal: 34.8ms\tremaining: 7.13ms\n",
      "83:\tlearn: 0.0252364\ttotal: 35.3ms\tremaining: 6.72ms\n",
      "84:\tlearn: 0.0251655\ttotal: 35.7ms\tremaining: 6.3ms\n",
      "85:\tlearn: 0.0251109\ttotal: 36.1ms\tremaining: 5.88ms\n",
      "86:\tlearn: 0.0250575\ttotal: 36.5ms\tremaining: 5.45ms\n",
      "87:\tlearn: 0.0250072\ttotal: 36.9ms\tremaining: 5.03ms\n",
      "88:\tlearn: 0.0248779\ttotal: 37.3ms\tremaining: 4.61ms\n",
      "89:\tlearn: 0.0248109\ttotal: 37.7ms\tremaining: 4.19ms\n",
      "90:\tlearn: 0.0247608\ttotal: 38.2ms\tremaining: 3.78ms\n",
      "91:\tlearn: 0.0247120\ttotal: 38.7ms\tremaining: 3.37ms\n",
      "92:\tlearn: 0.0246015\ttotal: 39.3ms\tremaining: 2.95ms\n",
      "93:\tlearn: 0.0245144\ttotal: 39.8ms\tremaining: 2.54ms\n",
      "94:\tlearn: 0.0244687\ttotal: 40.3ms\tremaining: 2.12ms\n",
      "95:\tlearn: 0.0243763\ttotal: 40.7ms\tremaining: 1.7ms\n",
      "96:\tlearn: 0.0243320\ttotal: 41.3ms\tremaining: 1.28ms\n",
      "97:\tlearn: 0.0242263\ttotal: 41.7ms\tremaining: 851us\n",
      "98:\tlearn: 0.0241805\ttotal: 42.3ms\tremaining: 426us\n",
      "99:\tlearn: 0.0241297\ttotal: 42.8ms\tremaining: 0us\n",
      "Misclassified examples: 1\n",
      "Accuracy score: 0.9777777777777777\n"
     ]
    },
    {
     "data": {
      "image/png": "[encoded data removed]",
      "text/plain": [
       "<Figure size 1000x500 with 2 Axes>"
      ]
     },
     "metadata": {},
     "output_type": "display_data"
    }
   ],
   "source": [
    "# Training\n",
    "cat.fit(X_train_std, y_train)\n",
    "\n",
    "# Prediction (Notice the flatten command)\n",
    "y_pred = cat.predict(X_test_std).flatten() # Return a 1-D array\n",
    "\n",
    "# Misclassification from the test samples\n",
    "sumMiss = (y_test != y_pred).sum()\n",
    "\n",
    "# Accuracy score from the test samples\n",
    "accuracyScore = accuracy_score(y_test, y_pred)\n",
    "\n",
    "print(f\"Misclassified examples: {sumMiss}\")\n",
    "print(f\"Accuracy score: {accuracyScore}\")\n",
    "\n",
    "# Plot decision regions\n",
    "plot_ds(X_train_std, X_test_std, y_train, y_test, cat)"
   ]
  },
  {
   "cell_type": "code",
   "execution_count": 25,
   "metadata": {},
   "outputs": [
    {
     "data": {
      "text/plain": [
       "array([2, 0, 0, 1, 1, 1, 2, 1, 2, 0, 0, 2, 0, 1, 0, 1, 2, 1, 1, 2, 2, 0,\n",
       "       1, 2, 1, 1, 1, 2, 0, 2, 0, 0, 1, 1, 2, 2, 0, 0, 0, 1, 2, 2, 1, 0,\n",
       "       0], dtype=int64)"
      ]
     },
     "execution_count": 25,
     "metadata": {},
     "output_type": "execute_result"
    }
   ],
   "source": [
    "y_pred.flatten()"
   ]
  },
  {
   "cell_type": "code",
   "execution_count": null,
   "metadata": {},
   "outputs": [],
   "source": []
  }
 ],
 "metadata": {
  "kernelspec": {
   "display_name": "Python 3.9.7 ('base')",
   "language": "python",
   "name": "python3"
  },
  "language_info": {
   "codemirror_mode": {
    "name": "ipython",
    "version": 3
   },
   "file_extension": ".py",
   "mimetype": "text/x-python",
   "name": "python",
   "nbconvert_exporter": "python",
   "pygments_lexer": "ipython3",
   "version": "3.11.7"
  },
  "orig_nbformat": 2,
  "vscode": {
   "interpreter": {
    "hash": "79088bb772545dc9740b3f6fd02f1fa74686ae15b783fc1c2abf8492adb1c7fb"
   }
  }
 },
 "nbformat": 4,
 "nbformat_minor": 2
}
